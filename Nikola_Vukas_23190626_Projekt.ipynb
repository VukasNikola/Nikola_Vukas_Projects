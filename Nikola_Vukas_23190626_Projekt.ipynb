{
 "cells": [
  {
   "cell_type": "markdown",
   "metadata": {},
   "source": [
    "Avtor: **Nikola Vukas, 23190626**\n",
    "\n",
    "Datum: 18. januar 2021.\n",
    "\n",
    "*Potrjujem, da sem avtor projektne naloge in da sem vso vsebino pripravil sam. V primeru, da se ugotovi plagiatorstvo se zavedam, da ne bom izpolnjeval pogojev za pristop k izpitu.*"
   ]
  },
  {
   "cell_type": "markdown",
   "metadata": {
    "toc": true
   },
   "source": [
    "<h1>Kazalo<span class=\"tocSkip\"></span></h1>\n",
    "<div class=\"toc\"><ul class=\"toc-item\"><li><span><a href=\"#Definicija-Naloge\" data-toc-modified-id=\"Definicija-Naloge-1\"><span class=\"toc-item-num\">1&nbsp;&nbsp;</span>Definicija Naloge</a></span><ul class=\"toc-item\"><li><span><a href=\"#Knjižnice:\" data-toc-modified-id=\"Knjižnice:-1.1\"><span class=\"toc-item-num\">1.1&nbsp;&nbsp;</span>Knjižnice:</a></span></li><li><span><a href=\"#PandasBasketball:\" data-toc-modified-id=\"PandasBasketball:-1.2\"><span class=\"toc-item-num\">1.2&nbsp;&nbsp;</span>PandasBasketball:</a></span></li></ul></li><li><span><a href=\"#Simbolno-reševanje\" data-toc-modified-id=\"Simbolno-reševanje-2\"><span class=\"toc-item-num\">2&nbsp;&nbsp;</span>Simbolno reševanje</a></span></li><li><span><a href=\"#Sistem-linearnih-enacb\" data-toc-modified-id=\"Sistem-linearnih-enacb-3\"><span class=\"toc-item-num\">3&nbsp;&nbsp;</span>Sistem linearnih enacb</a></span></li><li><span><a href=\"#Interpolacija/Aproksimacija\" data-toc-modified-id=\"Interpolacija/Aproksimacija-4\"><span class=\"toc-item-num\">4&nbsp;&nbsp;</span>Interpolacija/Aproksimacija</a></span></li><li><span><a href=\"#Integriranje/Odvajanje\" data-toc-modified-id=\"Integriranje/Odvajanje-5\"><span class=\"toc-item-num\">5&nbsp;&nbsp;</span>Integriranje/Odvajanje</a></span></li><li><span><a href=\"#Diferencialne-enačbe\" data-toc-modified-id=\"Diferencialne-enačbe-6\"><span class=\"toc-item-num\">6&nbsp;&nbsp;</span>Diferencialne enačbe</a></span></li><li><span><a href=\"#Iskanje-ničel\" data-toc-modified-id=\"Iskanje-ničel-7\"><span class=\"toc-item-num\">7&nbsp;&nbsp;</span>Iskanje ničel</a></span></li><li><span><a href=\"#NBA-met\" data-toc-modified-id=\"NBA-met-8\"><span class=\"toc-item-num\">8&nbsp;&nbsp;</span>NBA met</a></span></li></ul></div>"
   ]
  },
  {
   "cell_type": "markdown",
   "metadata": {},
   "source": [
    "# Definicija Naloge"
   ]
  },
  {
   "cell_type": "markdown",
   "metadata": {},
   "source": [
    "\n"
   ]
  },
  {
   "cell_type": "markdown",
   "metadata": {},
   "source": [
    "<img src=\"Uvod.jpg\">"
   ]
  },
  {
   "cell_type": "markdown",
   "metadata": {},
   "source": [
    "\n"
   ]
  },
  {
   "cell_type": "markdown",
   "metadata": {},
   "source": [
    "Košarka je tretji najbolj gledan šport na svetu in tudi moj najljubši. Za moj projekt ni bilo enostavno izbrati samo eno nalogo, zato sem se odločil izbrati eno temo, NBA, s katero bom pokazal znanje, ki sem ga pridobil v tem semestru. Skozi ta projekt boste srečali moje najljubše igralce lige in videli, kako se njihove dejavnosti prepletajo s numeričnimi metodami, ki smo jih preučevali."
   ]
  },
  {
   "cell_type": "markdown",
   "metadata": {},
   "source": [
    "\n"
   ]
  },
  {
   "cell_type": "markdown",
   "metadata": {},
   "source": [
    "Spodaj so vse knjižnice, ki sem jih uporabljal med projektom in je najbolj smiselno začeti z njimi:\n"
   ]
  },
  {
   "cell_type": "markdown",
   "metadata": {},
   "source": [
    "## Knjižnice:"
   ]
  },
  {
   "cell_type": "code",
   "execution_count": 1,
   "metadata": {},
   "outputs": [],
   "source": [
    "import numpy as np\n",
    "import sympy as sym\n",
    "import matplotlib.pyplot as plt\n",
    "import pandas as pd\n",
    "from scipy.integrate import solve_ivp\n",
    "from scipy.optimize import newton\n",
    "from ipywidgets import interact"
   ]
  },
  {
   "cell_type": "markdown",
   "metadata": {},
   "source": [
    "## PandasBasketball:"
   ]
  },
  {
   "cell_type": "markdown",
   "metadata": {},
   "source": [
    "Uporabil sem tudi fenomenalen vir paketov za pyton pypi.org. S te spletne strani sem prenesel paket PandasBasketball. Najprej moramo instalirati ta!"
   ]
  },
  {
   "cell_type": "code",
   "execution_count": null,
   "metadata": {},
   "outputs": [],
   "source": [
    "pip install PandasBasketball"
   ]
  },
  {
   "cell_type": "code",
   "execution_count": 2,
   "metadata": {},
   "outputs": [],
   "source": [
    "from PandasBasketball import pandasbasketball as pb"
   ]
  },
  {
   "cell_type": "markdown",
   "metadata": {},
   "source": [
    "\n"
   ]
  },
  {
   "cell_type": "markdown",
   "metadata": {},
   "source": [
    "#  Simbolno reševanje"
   ]
  },
  {
   "cell_type": "markdown",
   "metadata": {},
   "source": [
    "\n"
   ]
  },
  {
   "cell_type": "markdown",
   "metadata": {},
   "source": [
    "Zabijanje je ena od najprivlačnejših dejavnosti v ligi NBA. Vstopili smo v obdobje košarke, kje lahko tudi otroci v srednji šoli zabijajo kot profesionalci, ampak eden je edini Vince Carter. Carter je novinec 1998–1999. sezone,  olimpijski zlati medalist in osemkratni All-Star igralec. Razen vseh teh neverjetnih statistik velja za enega od najboljših zabijateljev v NBA ligi. Leta 2000 je zmagal na NBA All-Star Dunk Contest-u in se s tem pokazal kot eno od najboljših. V svojem nastopu je imel, med drugimi neverjetnimi zabijanjimi, tudi 360 ° Windmill Dunk. To je zabijanje katero bomo analizirali za prvi del mojega projekta."
   ]
  },
  {
   "cell_type": "markdown",
   "metadata": {},
   "source": [
    "\n"
   ]
  },
  {
   "cell_type": "code",
   "execution_count": 3,
   "metadata": {
    "scrolled": false
   },
   "outputs": [
    {
     "data": {
      "text/html": [
       "<img src=\"Vince.gif\" width=\"900\"/>"
      ],
      "text/plain": [
       "<IPython.core.display.Image object>"
      ]
     },
     "execution_count": 3,
     "metadata": {},
     "output_type": "execute_result"
    }
   ],
   "source": [
    "from IPython.display import Image\n",
    "Image(url='Vince.gif', width = 900)  "
   ]
  },
  {
   "cell_type": "markdown",
   "metadata": {},
   "source": [
    "V tem zabijanju imamo jasen primer krožnega gibanja košarkaške NBA žoge. Moja ideja je bila izračunati centripetalno silo košarke žoge."
   ]
  },
  {
   "cell_type": "markdown",
   "metadata": {},
   "source": [
    "\n"
   ]
  },
  {
   "cell_type": "markdown",
   "metadata": {},
   "source": [
    "Najprej sem moral najti polmer vrtenja. Iz gif-a je razvidno, da je polmer krožnega kretanja dolžina Vince-ove roke. Za izračun njegove roke sem moral najprej ugotoviti njegovo višino. Na Googlu sem s preprostim iskanjem dobil informacijo, da je Vince Carter visok  **1,98 m**!"
   ]
  },
  {
   "cell_type": "markdown",
   "metadata": {},
   "source": [
    "\n"
   ]
  },
  {
   "cell_type": "markdown",
   "metadata": {},
   "source": [
    "Na podlagi razmerja med mojo višino in dolžino roke sem izračunal dolžino njegove roke. Za preverjanje rezultatov bom uporabil tudi meritve moga prijatelja Rastka:"
   ]
  },
  {
   "cell_type": "markdown",
   "metadata": {},
   "source": [
    "$$ Višine: $$ \n",
    "$$ Nikola: h_{N} = 1.81m $$\n",
    "$$ Rastko: h_{R} = 1.85m $$\n",
    "$$ Vince: h_{V} = 1.98m  $$\n",
    "$$ Roke: $$\n",
    "$$ Nikola: r_{N} = 0.78m $$\n",
    "$$ Rastko: r_{R} = 0.8m $$\n",
    "$$ Vince: r_{V} = ? $$\n",
    "\n",
    "\n",
    "\n",
    "\n"
   ]
  },
  {
   "cell_type": "code",
   "execution_count": 3,
   "metadata": {},
   "outputs": [],
   "source": [
    "# Prvo bom definiral simbole katere bom uporabil za izračun dolžine Carter-jeve roke.\n",
    "\n",
    "r_N, r_V, r_R = sym.symbols('r_N r_V r_R')\n",
    "h_N, h_V, h_R = sym.symbols('h_N h_V h_R')"
   ]
  },
  {
   "cell_type": "code",
   "execution_count": 4,
   "metadata": {},
   "outputs": [
    {
     "data": {
      "text/latex": [
       "$\\displaystyle \\frac{r_{N}}{r_{V}} = \\frac{h_{N}}{h_{V}}$"
      ],
      "text/plain": [
       "Eq(r_N/r_V, h_N/h_V)"
      ]
     },
     "metadata": {},
     "output_type": "display_data"
    }
   ],
   "source": [
    "# Napišemo kako bo izgledalo razmerje.\n",
    "\n",
    "Razmerje_N = sym.Eq(r_N/r_V, h_N/h_V )\n",
    "display(Razmerje_N)"
   ]
  },
  {
   "cell_type": "code",
   "execution_count": 5,
   "metadata": {},
   "outputs": [
    {
     "data": {
      "text/latex": [
       "$\\displaystyle r_{V} = \\frac{h_{V} r_{N}}{h_{N}}$"
      ],
      "text/plain": [
       "Eq(r_V, h_V*r_N/h_N)"
      ]
     },
     "metadata": {},
     "output_type": "display_data"
    }
   ],
   "source": [
    "# Preoblikujemo enačbo kako bi izračunali dolžino roke Vince-a.\n",
    "\n",
    "Enacba_N = sym.solve(Razmerje_N, r_V)[0]\n",
    "display(sym.Eq(r_V, Enacba_N))"
   ]
  },
  {
   "cell_type": "code",
   "execution_count": 6,
   "metadata": {},
   "outputs": [
    {
     "data": {
      "text/latex": [
       "$\\displaystyle r_{V} = 0.853259668508287$"
      ],
      "text/plain": [
       "Eq(r_V, 0.853259668508287)"
      ]
     },
     "metadata": {},
     "output_type": "display_data"
    }
   ],
   "source": [
    "# Simbolno izračunamo.\n",
    "\n",
    "Podatki_N = { r_N : 0.78, h_N : 1.81, h_V : 1.98 } #Naredimo seznam podatkov katere vstavimo v enačbo in uporabimo .subs.\n",
    "display(sym.Eq(r_V, Enacba_N.subs(Podatki_N)))"
   ]
  },
  {
   "cell_type": "code",
   "execution_count": 7,
   "metadata": {},
   "outputs": [
    {
     "name": "stdout",
     "output_type": "stream",
     "text": [
      "Glede na razmerje mojega telesa je njegova roka  ≈ 0.85 m!\n"
     ]
    }
   ],
   "source": [
    "print(f'Glede na razmerje mojega telesa je njegova roka  ≈ {Enacba_N.subs(Podatki_N):.2} m!')"
   ]
  },
  {
   "cell_type": "code",
   "execution_count": 8,
   "metadata": {
    "scrolled": true
   },
   "outputs": [
    {
     "name": "stdout",
     "output_type": "stream",
     "text": [
      "Glede na razmerje telesa mojega prijatelja je njegova roka ≈ 0.86 m!\n"
     ]
    }
   ],
   "source": [
    "# Sedaj bom uporabil enak postopek kako bi izračunal na primeru Rastka.\n",
    "\n",
    "Razmerje_R = sym.Eq(r_R/r_V, h_R/h_V )\n",
    "Podatki_R = { r_R : 0.8, h_R : 1.85, h_V : 1.98 }\n",
    "Enacba_R = sym.solve(Razmerje_R, r_V)[0]\n",
    "print(f'Glede na razmerje telesa mojega prijatelja je njegova roka ≈ {Enacba_R.subs(Podatki_R):.2} m!')"
   ]
  },
  {
   "cell_type": "markdown",
   "metadata": {},
   "source": [
    "\n"
   ]
  },
  {
   "cell_type": "markdown",
   "metadata": {},
   "source": [
    "Vidimo, da smo dobili zelo podoben rezultat, zato bom za nadaljnji izračun uporabil dolžino, ki sem jo dobil na podlagi svojih meritev. Naslednji korak je zapis enačb, ki jih potrebujemo za izračun centripetalne sile:"
   ]
  },
  {
   "cell_type": "markdown",
   "metadata": {},
   "source": [
    "\n"
   ]
  },
  {
   "cell_type": "code",
   "execution_count": 9,
   "metadata": {},
   "outputs": [],
   "source": [
    "# Napišemo simbole katere bomo potrebovali v enačbah.\n",
    "\n",
    "v_t, r, a_c, t, F_c, m_l = sym.symbols('v_t r a_c t F_c m_l')"
   ]
  },
  {
   "cell_type": "code",
   "execution_count": 10,
   "metadata": {},
   "outputs": [
    {
     "data": {
      "text/latex": [
       "$\\displaystyle F_{c} = a_{c} m_{l}$"
      ],
      "text/plain": [
       "Eq(F_c, a_c*m_l)"
      ]
     },
     "metadata": {},
     "output_type": "display_data"
    }
   ],
   "source": [
    "# Pokažemo enačbo za centripetalno silo.\n",
    "\n",
    "Centripetalna_sila_enacba = sym.Eq(F_c, m_l*a_c)\n",
    "display(Centripetalna_sila_enacba)"
   ]
  },
  {
   "cell_type": "code",
   "execution_count": 11,
   "metadata": {
    "scrolled": true
   },
   "outputs": [
    {
     "data": {
      "text/latex": [
       "$\\displaystyle v_{t} = \\frac{2 \\pi r_{V}}{t}$"
      ],
      "text/plain": [
       "Eq(v_t, 2*pi*r_V/t)"
      ]
     },
     "metadata": {},
     "output_type": "display_data"
    }
   ],
   "source": [
    "# Pokažemo enačbo za tangencialno hitrost.\n",
    "\n",
    "Hitrost_enacba = sym.Eq(v_t, 2*sym.pi*r_V/t)\n",
    "display(Hitrost_enacba)"
   ]
  },
  {
   "cell_type": "markdown",
   "metadata": {},
   "source": [
    "\n"
   ]
  },
  {
   "cell_type": "markdown",
   "metadata": {},
   "source": [
    "Vidimo, da je v enačbi ena od neznank čas **t**. Za izračun sem si večkrat ogledal video posnetek Vince-a. Ta korak je vzrok za večino napak, ker ni bilo možno vedno dobiti enak čas. Začel sem meriti, ko se je Carter-jeva roka začela vrteti, in končal, ko je njegova roka udarila rob. **Pri preračunu ne bom upošteval njegovo rotacijo ampak samo rotacijo žoge kot idealno.**"
   ]
  },
  {
   "cell_type": "markdown",
   "metadata": {},
   "source": [
    "\n"
   ]
  },
  {
   "cell_type": "markdown",
   "metadata": {},
   "source": [
    "<img src=\"Poz1.jpg\">\n",
    "<img src=\"Poz2.jpg\">\n"
   ]
  },
  {
   "cell_type": "markdown",
   "metadata": {},
   "source": [
    "\n"
   ]
  },
  {
   "cell_type": "markdown",
   "metadata": {},
   "source": [
    "Pogledajmo si meritve:"
   ]
  },
  {
   "cell_type": "markdown",
   "metadata": {},
   "source": [
    "\n"
   ]
  },
  {
   "cell_type": "code",
   "execution_count": 12,
   "metadata": {},
   "outputs": [],
   "source": [
    "# Časi tukaj predstavljajo Čase katere sem eksperimentalno dobil. Masa m je masa NBA žoge.\n",
    "\n",
    "t_1 = 1.77 #s\n",
    "t_2 = 1.83 #s\n",
    "t_3 = 1.65 #s\n",
    "t_4 = 1.69 #s\n",
    "t_5 = 1.80 #s\n",
    "m = 0.6237 #kg"
   ]
  },
  {
   "cell_type": "markdown",
   "metadata": {},
   "source": [
    "\n"
   ]
  },
  {
   "cell_type": "markdown",
   "metadata": {},
   "source": [
    "Kako bi pravilno dobil meritve sem na YouTube-u hitrost posnetka zmanjšal na 0.25. Časi zgoraj so usporjeni časi katere sedaj bom preoblikoval v prave čase in najdel njihovo povprečje. U enačbi za tangencialno hitrost je potrebno da vstavimo čas ene rotacije. Zgoraj tudi vidimo da smo merili približno 3/4 rotacije in zaradi tega bom povprečje meritve delil s 0.75:"
   ]
  },
  {
   "cell_type": "markdown",
   "metadata": {},
   "source": [
    "\n"
   ]
  },
  {
   "cell_type": "code",
   "execution_count": 13,
   "metadata": {},
   "outputs": [
    {
     "name": "stdout",
     "output_type": "stream",
     "text": [
      "Povprečje meritev je 0.5826666666666667s!\n"
     ]
    }
   ],
   "source": [
    "Usporjene_meritve = np.array([t_1, t_2, t_3, t_4, t_5])\n",
    "\n",
    "Prave_meritve = Usporjene_meritve * 0.25\n",
    "t_povp = np.mean(Prave_meritve)/0.75\n",
    "\n",
    "print(f'Povprečje meritev je {t_povp}s!')"
   ]
  },
  {
   "cell_type": "code",
   "execution_count": 14,
   "metadata": {},
   "outputs": [
    {
     "data": {
      "text/latex": [
       "$\\displaystyle v_{t} = 9.1659739893066$"
      ],
      "text/plain": [
       "Eq(v_t, 9.1659739893066)"
      ]
     },
     "metadata": {},
     "output_type": "display_data"
    }
   ],
   "source": [
    "# Sedaj imamo vse potrebne podatke za izračun tangencialne hitrosti.\n",
    "\n",
    "Podatki_v = {r_V : 0.85, t : t_povp}  # Zamenjava podatkov.\n",
    "Hitrost_v = sym.solve(Hitrost_enacba.subs(Podatki_v))[0]\n",
    "display(sym.Eq(v_t, Hitrost_v))"
   ]
  },
  {
   "cell_type": "code",
   "execution_count": 15,
   "metadata": {},
   "outputs": [
    {
     "data": {
      "text/latex": [
       "$\\displaystyle a_{c} = \\frac{v_{t}^{2}}{r_{V}}$"
      ],
      "text/plain": [
       "Eq(a_c, v_t**2/r_V)"
      ]
     },
     "metadata": {},
     "output_type": "display_data"
    }
   ],
   "source": [
    "# Zapišemo enačbo za centripetalni pospešek.\n",
    "\n",
    "Pospesek_enacba = sym.Eq(a_c, v_t**2/r_V)\n",
    "display(Pospesek_enacba)"
   ]
  },
  {
   "cell_type": "code",
   "execution_count": 16,
   "metadata": {},
   "outputs": [
    {
     "data": {
      "text/latex": [
       "$\\displaystyle a_{c} = 98.8412696148767$"
      ],
      "text/plain": [
       "Eq(a_c, 98.8412696148767)"
      ]
     },
     "metadata": {},
     "output_type": "display_data"
    }
   ],
   "source": [
    "# Vse podatke imamo na voljo.\n",
    "\n",
    "Podatki_a = {r_V : 0.85, v_t : Hitrost_v} # Seznam podatkov.\n",
    "Pospesek_c = sym.solve(Pospesek_enacba.subs(Podatki_a))[0]\n",
    "display(sym.Eq(a_c,Pospesek_c))"
   ]
  },
  {
   "cell_type": "code",
   "execution_count": 17,
   "metadata": {},
   "outputs": [
    {
     "data": {
      "text/latex": [
       "$\\displaystyle F_{c} = 61.6472998587986$"
      ],
      "text/plain": [
       "Eq(F_c, 61.6472998587986)"
      ]
     },
     "metadata": {},
     "output_type": "display_data"
    }
   ],
   "source": [
    "# Na koncu uporabimo centripetalni pospešek in izračunamo silo!\n",
    "\n",
    "Podatki_F = {m_l : m, a_c : Pospesek_c} # Seznam podatkov.\n",
    "Centripetalna_sila = sym.solve(Centripetalna_sila_enacba.subs(Podatki_F))[0]\n",
    "display(sym.Eq(F_c, Centripetalna_sila))"
   ]
  },
  {
   "cell_type": "code",
   "execution_count": 18,
   "metadata": {},
   "outputs": [
    {
     "name": "stdout",
     "output_type": "stream",
     "text": [
      "Centripetalna sila žoge je 61.647N!\n"
     ]
    }
   ],
   "source": [
    "print(f'Centripetalna sila žoge je {Centripetalna_sila:.5}N!')"
   ]
  },
  {
   "cell_type": "markdown",
   "metadata": {},
   "source": [
    "\n"
   ]
  },
  {
   "cell_type": "markdown",
   "metadata": {},
   "source": [
    "# Sistem linearnih enacb"
   ]
  },
  {
   "cell_type": "markdown",
   "metadata": {},
   "source": [
    "<img src=\"luka-trae.jpg\">\n"
   ]
  },
  {
   "cell_type": "markdown",
   "metadata": {},
   "source": [
    "\n"
   ]
  },
  {
   "cell_type": "markdown",
   "metadata": {},
   "source": [
    "Vedno je zanimivo gledati novince ki igrajo prve tekme v ligi NBA, in videti kako dobri so pravzaprav. Prvi novinec leta, ki ga je NBA uradno priznal, je bil Monk Meineke v sezoni 1952-53, od takrat pa jih NBA ima še veliko več. Michael Jordan, Allen Iverson in LeBron James so nekateri od najboljših igralcev vseh časov in kaj imajo skupnega? Vsi so prejeli nagrado za NBA novinca leta! Elitni skupini se je leta 2019 pridružil mladi Slovenec, in moj najljubši igralec Luka Dončić. V sezoni 2018-2019. za nagrado so bili nominirani trije igralci: Luka Dončić, Trae Young in Deandre Ayton. V tem delu svojega projekta si bom ogledal nekatere njihove statistične podatke in ugotovil, zakaj je Luka zmagal!"
   ]
  },
  {
   "cell_type": "markdown",
   "metadata": {},
   "source": [
    "\n"
   ]
  },
  {
   "cell_type": "code",
   "execution_count": 19,
   "metadata": {},
   "outputs": [
    {
     "data": {
      "text/html": [
       "<div>\n",
       "<style scoped>\n",
       "    .dataframe tbody tr th:only-of-type {\n",
       "        vertical-align: middle;\n",
       "    }\n",
       "\n",
       "    .dataframe tbody tr th {\n",
       "        vertical-align: top;\n",
       "    }\n",
       "\n",
       "    .dataframe thead th {\n",
       "        text-align: right;\n",
       "    }\n",
       "</style>\n",
       "<table border=\"1\" class=\"dataframe\">\n",
       "  <thead>\n",
       "    <tr style=\"text-align: right;\">\n",
       "      <th></th>\n",
       "      <th>Season</th>\n",
       "      <th>Age</th>\n",
       "      <th>Tm</th>\n",
       "      <th>Lg</th>\n",
       "      <th>Pos</th>\n",
       "      <th>G</th>\n",
       "      <th>GS</th>\n",
       "      <th>MP</th>\n",
       "      <th>FG</th>\n",
       "      <th>FGA</th>\n",
       "      <th>...</th>\n",
       "      <th>DRB</th>\n",
       "      <th>TRB</th>\n",
       "      <th>AST</th>\n",
       "      <th>STL</th>\n",
       "      <th>BLK</th>\n",
       "      <th>TOV</th>\n",
       "      <th>PF</th>\n",
       "      <th>PTS</th>\n",
       "      <th></th>\n",
       "      <th>Trp Dbl</th>\n",
       "    </tr>\n",
       "  </thead>\n",
       "  <tbody>\n",
       "    <tr>\n",
       "      <th>0</th>\n",
       "      <td>2018-19</td>\n",
       "      <td>19</td>\n",
       "      <td>DAL</td>\n",
       "      <td>NBA</td>\n",
       "      <td>SG</td>\n",
       "      <td>72</td>\n",
       "      <td>72</td>\n",
       "      <td>2318</td>\n",
       "      <td>506</td>\n",
       "      <td>1186</td>\n",
       "      <td>...</td>\n",
       "      <td>477</td>\n",
       "      <td>563</td>\n",
       "      <td>429</td>\n",
       "      <td>77</td>\n",
       "      <td>25</td>\n",
       "      <td>247</td>\n",
       "      <td>137</td>\n",
       "      <td>1526</td>\n",
       "      <td></td>\n",
       "      <td>8</td>\n",
       "    </tr>\n",
       "    <tr>\n",
       "      <th>1</th>\n",
       "      <td>2019-20</td>\n",
       "      <td>20</td>\n",
       "      <td>DAL</td>\n",
       "      <td>NBA</td>\n",
       "      <td>PG</td>\n",
       "      <td>61</td>\n",
       "      <td>61</td>\n",
       "      <td>2047</td>\n",
       "      <td>581</td>\n",
       "      <td>1255</td>\n",
       "      <td>...</td>\n",
       "      <td>495</td>\n",
       "      <td>573</td>\n",
       "      <td>538</td>\n",
       "      <td>62</td>\n",
       "      <td>14</td>\n",
       "      <td>260</td>\n",
       "      <td>153</td>\n",
       "      <td>1759</td>\n",
       "      <td></td>\n",
       "      <td>17</td>\n",
       "    </tr>\n",
       "    <tr>\n",
       "      <th>2</th>\n",
       "      <td>2020-21</td>\n",
       "      <td>21</td>\n",
       "      <td>DAL</td>\n",
       "      <td>NBA</td>\n",
       "      <td>PG</td>\n",
       "      <td>10</td>\n",
       "      <td>10</td>\n",
       "      <td>342</td>\n",
       "      <td>99</td>\n",
       "      <td>211</td>\n",
       "      <td>...</td>\n",
       "      <td>88</td>\n",
       "      <td>96</td>\n",
       "      <td>88</td>\n",
       "      <td>11</td>\n",
       "      <td>9</td>\n",
       "      <td>43</td>\n",
       "      <td>18</td>\n",
       "      <td>275</td>\n",
       "      <td></td>\n",
       "      <td>3</td>\n",
       "    </tr>\n",
       "  </tbody>\n",
       "</table>\n",
       "<p>3 rows × 32 columns</p>\n",
       "</div>"
      ],
      "text/plain": [
       "    Season Age   Tm   Lg Pos   G  GS    MP   FG   FGA  ...  DRB  TRB  AST STL  \\\n",
       "0  2018-19  19  DAL  NBA  SG  72  72  2318  506  1186  ...  477  563  429  77   \n",
       "1  2019-20  20  DAL  NBA  PG  61  61  2047  581  1255  ...  495  573  538  62   \n",
       "2  2020-21  21  DAL  NBA  PG  10  10   342   99   211  ...   88   96   88  11   \n",
       "\n",
       "  BLK  TOV   PF   PTS   Trp Dbl  \n",
       "0  25  247  137  1526         8  \n",
       "1  14  260  153  1759        17  \n",
       "2   9   43   18   275         3  \n",
       "\n",
       "[3 rows x 32 columns]"
      ]
     },
     "execution_count": 19,
     "metadata": {},
     "output_type": "execute_result"
    }
   ],
   "source": [
    "# Bom uporabil knjižnico PandasBasketball kako bi pokazal statistiko igralcev.\n",
    "\n",
    "DONCIC_STAT = pb.get_player(pb.generate_code(\"Luka Doncic\"), \"totals\")\n",
    "DONCIC_STAT"
   ]
  },
  {
   "cell_type": "code",
   "execution_count": 20,
   "metadata": {},
   "outputs": [
    {
     "data": {
      "text/html": [
       "<div>\n",
       "<style scoped>\n",
       "    .dataframe tbody tr th:only-of-type {\n",
       "        vertical-align: middle;\n",
       "    }\n",
       "\n",
       "    .dataframe tbody tr th {\n",
       "        vertical-align: top;\n",
       "    }\n",
       "\n",
       "    .dataframe thead th {\n",
       "        text-align: right;\n",
       "    }\n",
       "</style>\n",
       "<table border=\"1\" class=\"dataframe\">\n",
       "  <thead>\n",
       "    <tr style=\"text-align: right;\">\n",
       "      <th></th>\n",
       "      <th>Season</th>\n",
       "      <th>Age</th>\n",
       "      <th>Tm</th>\n",
       "      <th>Lg</th>\n",
       "      <th>Pos</th>\n",
       "      <th>G</th>\n",
       "      <th>GS</th>\n",
       "      <th>MP</th>\n",
       "      <th>FG</th>\n",
       "      <th>FGA</th>\n",
       "      <th>...</th>\n",
       "      <th>DRB</th>\n",
       "      <th>TRB</th>\n",
       "      <th>AST</th>\n",
       "      <th>STL</th>\n",
       "      <th>BLK</th>\n",
       "      <th>TOV</th>\n",
       "      <th>PF</th>\n",
       "      <th>PTS</th>\n",
       "      <th></th>\n",
       "      <th>Trp Dbl</th>\n",
       "    </tr>\n",
       "  </thead>\n",
       "  <tbody>\n",
       "    <tr>\n",
       "      <th>0</th>\n",
       "      <td>2018-19</td>\n",
       "      <td>20</td>\n",
       "      <td>ATL</td>\n",
       "      <td>NBA</td>\n",
       "      <td>PG</td>\n",
       "      <td>81</td>\n",
       "      <td>81</td>\n",
       "      <td>2503</td>\n",
       "      <td>525</td>\n",
       "      <td>1256</td>\n",
       "      <td>...</td>\n",
       "      <td>237</td>\n",
       "      <td>301</td>\n",
       "      <td>653</td>\n",
       "      <td>72</td>\n",
       "      <td>15</td>\n",
       "      <td>308</td>\n",
       "      <td>140</td>\n",
       "      <td>1549</td>\n",
       "      <td></td>\n",
       "      <td>1</td>\n",
       "    </tr>\n",
       "    <tr>\n",
       "      <th>1</th>\n",
       "      <td>2019-20</td>\n",
       "      <td>21</td>\n",
       "      <td>ATL</td>\n",
       "      <td>NBA</td>\n",
       "      <td>PG</td>\n",
       "      <td>60</td>\n",
       "      <td>60</td>\n",
       "      <td>2120</td>\n",
       "      <td>546</td>\n",
       "      <td>1249</td>\n",
       "      <td>...</td>\n",
       "      <td>223</td>\n",
       "      <td>255</td>\n",
       "      <td>560</td>\n",
       "      <td>65</td>\n",
       "      <td>8</td>\n",
       "      <td>289</td>\n",
       "      <td>104</td>\n",
       "      <td>1778</td>\n",
       "      <td></td>\n",
       "      <td>2</td>\n",
       "    </tr>\n",
       "    <tr>\n",
       "      <th>2</th>\n",
       "      <td>2020-21</td>\n",
       "      <td>22</td>\n",
       "      <td>ATL</td>\n",
       "      <td>NBA</td>\n",
       "      <td>PG</td>\n",
       "      <td>12</td>\n",
       "      <td>12</td>\n",
       "      <td>393</td>\n",
       "      <td>80</td>\n",
       "      <td>207</td>\n",
       "      <td>...</td>\n",
       "      <td>37</td>\n",
       "      <td>50</td>\n",
       "      <td>103</td>\n",
       "      <td>6</td>\n",
       "      <td>2</td>\n",
       "      <td>50</td>\n",
       "      <td>22</td>\n",
       "      <td>278</td>\n",
       "      <td></td>\n",
       "      <td>0</td>\n",
       "    </tr>\n",
       "  </tbody>\n",
       "</table>\n",
       "<p>3 rows × 32 columns</p>\n",
       "</div>"
      ],
      "text/plain": [
       "    Season Age   Tm   Lg Pos   G  GS    MP   FG   FGA  ...  DRB  TRB  AST STL  \\\n",
       "0  2018-19  20  ATL  NBA  PG  81  81  2503  525  1256  ...  237  301  653  72   \n",
       "1  2019-20  21  ATL  NBA  PG  60  60  2120  546  1249  ...  223  255  560  65   \n",
       "2  2020-21  22  ATL  NBA  PG  12  12   393   80   207  ...   37   50  103   6   \n",
       "\n",
       "  BLK  TOV   PF   PTS   Trp Dbl  \n",
       "0  15  308  140  1549         1  \n",
       "1   8  289  104  1778         2  \n",
       "2   2   50   22   278         0  \n",
       "\n",
       "[3 rows x 32 columns]"
      ]
     },
     "execution_count": 20,
     "metadata": {},
     "output_type": "execute_result"
    }
   ],
   "source": [
    "TRAE_STAT = pb.get_player(pb.generate_code(\"Trae Young\"), \"totals\")\n",
    "TRAE_STAT"
   ]
  },
  {
   "cell_type": "code",
   "execution_count": 21,
   "metadata": {
    "scrolled": true
   },
   "outputs": [
    {
     "data": {
      "text/html": [
       "<div>\n",
       "<style scoped>\n",
       "    .dataframe tbody tr th:only-of-type {\n",
       "        vertical-align: middle;\n",
       "    }\n",
       "\n",
       "    .dataframe tbody tr th {\n",
       "        vertical-align: top;\n",
       "    }\n",
       "\n",
       "    .dataframe thead th {\n",
       "        text-align: right;\n",
       "    }\n",
       "</style>\n",
       "<table border=\"1\" class=\"dataframe\">\n",
       "  <thead>\n",
       "    <tr style=\"text-align: right;\">\n",
       "      <th></th>\n",
       "      <th>Season</th>\n",
       "      <th>Age</th>\n",
       "      <th>Tm</th>\n",
       "      <th>Lg</th>\n",
       "      <th>Pos</th>\n",
       "      <th>G</th>\n",
       "      <th>GS</th>\n",
       "      <th>MP</th>\n",
       "      <th>FG</th>\n",
       "      <th>FGA</th>\n",
       "      <th>...</th>\n",
       "      <th>FT%</th>\n",
       "      <th>ORB</th>\n",
       "      <th>DRB</th>\n",
       "      <th>TRB</th>\n",
       "      <th>AST</th>\n",
       "      <th>STL</th>\n",
       "      <th>BLK</th>\n",
       "      <th>TOV</th>\n",
       "      <th>PF</th>\n",
       "      <th>PTS</th>\n",
       "    </tr>\n",
       "  </thead>\n",
       "  <tbody>\n",
       "    <tr>\n",
       "      <th>0</th>\n",
       "      <td>2018-19</td>\n",
       "      <td>20</td>\n",
       "      <td>PHO</td>\n",
       "      <td>NBA</td>\n",
       "      <td>C</td>\n",
       "      <td>71</td>\n",
       "      <td>70</td>\n",
       "      <td>2183</td>\n",
       "      <td>509</td>\n",
       "      <td>870</td>\n",
       "      <td>...</td>\n",
       "      <td>.746</td>\n",
       "      <td>223</td>\n",
       "      <td>506</td>\n",
       "      <td>729</td>\n",
       "      <td>125</td>\n",
       "      <td>61</td>\n",
       "      <td>67</td>\n",
       "      <td>126</td>\n",
       "      <td>209</td>\n",
       "      <td>1159</td>\n",
       "    </tr>\n",
       "    <tr>\n",
       "      <th>1</th>\n",
       "      <td>2019-20</td>\n",
       "      <td>21</td>\n",
       "      <td>PHO</td>\n",
       "      <td>NBA</td>\n",
       "      <td>C</td>\n",
       "      <td>38</td>\n",
       "      <td>32</td>\n",
       "      <td>1236</td>\n",
       "      <td>310</td>\n",
       "      <td>568</td>\n",
       "      <td>...</td>\n",
       "      <td>.753</td>\n",
       "      <td>147</td>\n",
       "      <td>289</td>\n",
       "      <td>436</td>\n",
       "      <td>72</td>\n",
       "      <td>26</td>\n",
       "      <td>58</td>\n",
       "      <td>80</td>\n",
       "      <td>117</td>\n",
       "      <td>690</td>\n",
       "    </tr>\n",
       "    <tr>\n",
       "      <th>2</th>\n",
       "      <td>2020-21</td>\n",
       "      <td>22</td>\n",
       "      <td>PHO</td>\n",
       "      <td>NBA</td>\n",
       "      <td>C</td>\n",
       "      <td>11</td>\n",
       "      <td>11</td>\n",
       "      <td>332</td>\n",
       "      <td>60</td>\n",
       "      <td>106</td>\n",
       "      <td>...</td>\n",
       "      <td>.640</td>\n",
       "      <td>32</td>\n",
       "      <td>92</td>\n",
       "      <td>124</td>\n",
       "      <td>20</td>\n",
       "      <td>4</td>\n",
       "      <td>11</td>\n",
       "      <td>20</td>\n",
       "      <td>37</td>\n",
       "      <td>137</td>\n",
       "    </tr>\n",
       "  </tbody>\n",
       "</table>\n",
       "<p>3 rows × 30 columns</p>\n",
       "</div>"
      ],
      "text/plain": [
       "    Season Age   Tm   Lg Pos   G  GS    MP   FG  FGA  ...   FT%  ORB  DRB  \\\n",
       "0  2018-19  20  PHO  NBA   C  71  70  2183  509  870  ...  .746  223  506   \n",
       "1  2019-20  21  PHO  NBA   C  38  32  1236  310  568  ...  .753  147  289   \n",
       "2  2020-21  22  PHO  NBA   C  11  11   332   60  106  ...  .640   32   92   \n",
       "\n",
       "   TRB  AST STL BLK  TOV   PF   PTS  \n",
       "0  729  125  61  67  126  209  1159  \n",
       "1  436   72  26  58   80  117   690  \n",
       "2  124   20   4  11   20   37   137  \n",
       "\n",
       "[3 rows x 30 columns]"
      ]
     },
     "execution_count": 21,
     "metadata": {},
     "output_type": "execute_result"
    }
   ],
   "source": [
    "AYTON_STAT = pb.get_player(pb.generate_code(\"Deandre Ayton\"), \"totals\")\n",
    "AYTON_STAT"
   ]
  },
  {
   "cell_type": "markdown",
   "metadata": {},
   "source": [
    "\n"
   ]
  },
  {
   "cell_type": "markdown",
   "metadata": {},
   "source": [
    "Zgoraj vidimo tabelo statistik za vsako sezono ki jo je igralec igral. Statistika je skupna za sezono in to bom uporabil za izračun. Vidimo da naša tabela ima veliko podatkov kateri nam niso potrebni, zato je bom zdaj oblikoval za naše potrebe. Po uvedbi linije za 3 točke NBA liga se je spremenila za vedno. Kot merilo za dobre igralce se v današnji ligi gleda njegova spretnost da doseže 3 točke. Poglejmo kdo izmed naših igralcev je najboljši strelec. Vrstice katere so pomembne za ta izračun so: **FG, FT, PTS**. Oni predstavljajo celotno število doseženih košev, število pik doseženih prostim metom in skupno število pik v sezoni. Uporabom teh podatkov bomo izrazili, koliko od doseženih košev je bilo za 3 in koliko za 2 točki za vsakega igralca:"
   ]
  },
  {
   "cell_type": "markdown",
   "metadata": {},
   "source": [
    "\n"
   ]
  },
  {
   "cell_type": "code",
   "execution_count": 22,
   "metadata": {},
   "outputs": [
    {
     "data": {
      "text/html": [
       "<div>\n",
       "<style scoped>\n",
       "    .dataframe tbody tr th:only-of-type {\n",
       "        vertical-align: middle;\n",
       "    }\n",
       "\n",
       "    .dataframe tbody tr th {\n",
       "        vertical-align: top;\n",
       "    }\n",
       "\n",
       "    .dataframe thead th {\n",
       "        text-align: right;\n",
       "    }\n",
       "</style>\n",
       "<table border=\"1\" class=\"dataframe\">\n",
       "  <thead>\n",
       "    <tr style=\"text-align: right;\">\n",
       "      <th></th>\n",
       "      <th>FG</th>\n",
       "      <th>FT</th>\n",
       "      <th>PTS</th>\n",
       "    </tr>\n",
       "  </thead>\n",
       "  <tbody>\n",
       "    <tr>\n",
       "      <th>0</th>\n",
       "      <td>506</td>\n",
       "      <td>346</td>\n",
       "      <td>1526</td>\n",
       "    </tr>\n",
       "    <tr>\n",
       "      <th>1</th>\n",
       "      <td>581</td>\n",
       "      <td>426</td>\n",
       "      <td>1759</td>\n",
       "    </tr>\n",
       "    <tr>\n",
       "      <th>2</th>\n",
       "      <td>99</td>\n",
       "      <td>58</td>\n",
       "      <td>275</td>\n",
       "    </tr>\n",
       "  </tbody>\n",
       "</table>\n",
       "</div>"
      ],
      "text/plain": [
       "    FG   FT   PTS\n",
       "0  506  346  1526\n",
       "1  581  426  1759\n",
       "2   99   58   275"
      ]
     },
     "execution_count": 22,
     "metadata": {},
     "output_type": "execute_result"
    }
   ],
   "source": [
    "# Naredimo seznam stolpcev katere potrebujemo za izračun in jih izberemo iz tabele.\n",
    "\n",
    "Stolpci = ['FG','FT','PTS']\n",
    "DONCIC_PODATKI = DONCIC_STAT[Stolpci]\n",
    "DONCIC_PODATKI"
   ]
  },
  {
   "cell_type": "code",
   "execution_count": 23,
   "metadata": {},
   "outputs": [
    {
     "name": "stdout",
     "output_type": "stream",
     "text": [
      "Dončić je v svoji prvi sezoni dal 506 košev, 346 prostih metov i vse skupaj dal 1526 pik! \n"
     ]
    }
   ],
   "source": [
    "# V tabeli zgoraj smo dobili vrstice za vsako Lukino sezono do sedaj. Potrebna nam je samo sezona katera ima index 0.\n",
    "\n",
    "DONCIC_SEZONA = DONCIC_PODATKI.iloc[0]\n",
    "print(f'Dončić je v svoji prvi sezoni dal {DONCIC_SEZONA[0]} košev, {DONCIC_SEZONA[1]} prostih metov i vse skupaj dal {DONCIC_SEZONA[2]} pik! ')"
   ]
  },
  {
   "cell_type": "code",
   "execution_count": 24,
   "metadata": {},
   "outputs": [],
   "source": [
    "# To bom sedaj naredil za vse ostale igralce.\n",
    "\n",
    "TRAE_PODATKI = TRAE_STAT[Stolpci]\n",
    "TRAE_SEZONA = TRAE_PODATKI.iloc[0]\n",
    "\n",
    "AYTON_PODATKI = AYTON_STAT[Stolpci]\n",
    "AYTON_SEZONA = AYTON_PODATKI.iloc[0]"
   ]
  },
  {
   "cell_type": "markdown",
   "metadata": {},
   "source": [
    "\n"
   ]
  },
  {
   "cell_type": "markdown",
   "metadata": {},
   "source": [
    "Kako bi lažje predstavil numerični račun sistema linearnih enačb bom uporabil simbolno predstavitev enačb:"
   ]
  },
  {
   "cell_type": "markdown",
   "metadata": {},
   "source": [
    "\n"
   ]
  },
  {
   "cell_type": "code",
   "execution_count": 25,
   "metadata": {},
   "outputs": [],
   "source": [
    "# Bom najprej definiral simbole in napisal enacbe katere bom uporabil za racun.\n",
    "\n",
    "x, y = sym.symbols('x, y')\n",
    "Doncic1 = sym.Eq(x*3+y*2+346,1526)\n",
    "Doncic2 = sym.Eq(x+y,506)"
   ]
  },
  {
   "cell_type": "code",
   "execution_count": 26,
   "metadata": {},
   "outputs": [
    {
     "data": {
      "text/latex": [
       "$\\displaystyle 3 x + 2 y + 346 = 1526$"
      ],
      "text/plain": [
       "Eq(3*x + 2*y + 346, 1526)"
      ]
     },
     "metadata": {},
     "output_type": "display_data"
    }
   ],
   "source": [
    "# Enostavno lahko napišemo prvo enačbo katero predstavlja skupno število doseženih pik.\n",
    "# x je število dosegnutih košev za 3, \n",
    "# y je število dosegnutih košev za 2,\n",
    "# 346 je število točk sa prostih metov,\n",
    "# 1526 je skupno število točk v sezoni.\n",
    "\n",
    "display(Doncic1)"
   ]
  },
  {
   "cell_type": "code",
   "execution_count": 27,
   "metadata": {},
   "outputs": [
    {
     "data": {
      "text/latex": [
       "$\\displaystyle x + y = 506$"
      ],
      "text/plain": [
       "Eq(x + y, 506)"
      ]
     },
     "metadata": {},
     "output_type": "display_data"
    }
   ],
   "source": [
    "# Druga enačba je skupno število doseženih košev.\n",
    "# x pa y sta zgoraj definirani.\n",
    "# 506 je skupno število doseženih košev.\n",
    "\n",
    "display(Doncic2)"
   ]
  },
  {
   "cell_type": "code",
   "execution_count": 28,
   "metadata": {},
   "outputs": [
    {
     "data": {
      "text/latex": [
       "$\\displaystyle 3 x + 2 y = 1180$"
      ],
      "text/plain": [
       "Eq(3*x + 2*y, 1180)"
      ]
     },
     "metadata": {},
     "output_type": "display_data"
    }
   ],
   "source": [
    "# Kako bi nam prva enacba bila uporabna za sistem, potrebno je preoblikovanje:\n",
    "\n",
    "Doncic_b1 = sym.Eq(x*3+y*2,1526-346)\n",
    "display(Doncic_b1)"
   ]
  },
  {
   "cell_type": "markdown",
   "metadata": {},
   "source": [
    "\n"
   ]
  },
  {
   "cell_type": "markdown",
   "metadata": {},
   "source": [
    "Sedaj ko imamo potrebne enačbe bomo numericno rešili sistem linearnih enačb:"
   ]
  },
  {
   "cell_type": "markdown",
   "metadata": {},
   "source": [
    "\n"
   ]
  },
  {
   "cell_type": "code",
   "execution_count": 29,
   "metadata": {},
   "outputs": [
    {
     "data": {
      "text/latex": [
       "$\\displaystyle \\left[\\begin{matrix}3 & 2\\\\1 & 1\\end{matrix}\\right]$"
      ],
      "text/plain": [
       "Matrix([\n",
       "[3, 2],\n",
       "[1, 1]])"
      ]
     },
     "metadata": {},
     "output_type": "display_data"
    }
   ],
   "source": [
    "# Najprej definišemo matriko koeficientov A. Matrika A bo izgledala tako:\n",
    "\n",
    "D_sym = sym.Matrix([(3,2),\n",
    "                 (1,1)])\n",
    "display(D_sym)"
   ]
  },
  {
   "cell_type": "code",
   "execution_count": 30,
   "metadata": {},
   "outputs": [],
   "source": [
    "# Numerično bom zapisal to matriko tako:\n",
    "\n",
    "D_A = np.array([(3,2),\n",
    "                 (1,1)])"
   ]
  },
  {
   "cell_type": "code",
   "execution_count": 31,
   "metadata": {},
   "outputs": [
    {
     "data": {
      "text/latex": [
       "$\\displaystyle \\left[\\begin{matrix}1180.0\\\\506.0\\end{matrix}\\right]$"
      ],
      "text/plain": [
       "Matrix([\n",
       "[1180.0],\n",
       "[ 506.0]])"
      ]
     },
     "metadata": {},
     "output_type": "display_data"
    }
   ],
   "source": [
    "# Potem definiramo vektor konstant. Simbolno ta vektor bo izgledal tako:\n",
    "\n",
    "D_b = sym.Matrix([float(DONCIC_SEZONA[2])-float(DONCIC_SEZONA[1]),\n",
    "                 float(DONCIC_SEZONA[0])])  \n",
    "display(D_b)"
   ]
  },
  {
   "cell_type": "code",
   "execution_count": 32,
   "metadata": {},
   "outputs": [],
   "source": [
    "# Uporabom numpy paketa dobimo vektor konstant tako:\n",
    "\n",
    "D_b = np.array([float(DONCIC_SEZONA[2])-float(DONCIC_SEZONA[1]),\n",
    "                 float(DONCIC_SEZONA[0])])  "
   ]
  },
  {
   "cell_type": "code",
   "execution_count": 33,
   "metadata": {},
   "outputs": [
    {
     "data": {
      "text/plain": [
       "array([[3.00e+00, 2.00e+00, 1.18e+03],\n",
       "       [1.00e+00, 1.00e+00, 5.06e+02]])"
      ]
     },
     "execution_count": 33,
     "metadata": {},
     "output_type": "execute_result"
    }
   ],
   "source": [
    "# Lahko tudi uporabimo numpy kako bi predstavili izgled matrike in to naredimo tako:\n",
    "\n",
    "D_Ab = np.column_stack((D_A,D_b))\n",
    "D_Ab"
   ]
  },
  {
   "cell_type": "code",
   "execution_count": 34,
   "metadata": {},
   "outputs": [
    {
     "data": {
      "text/plain": [
       "array([168., 338.])"
      ]
     },
     "execution_count": 34,
     "metadata": {},
     "output_type": "execute_result"
    }
   ],
   "source": [
    "# Sedaj imamo vse potrebne podatke kako bi dobili rešitev:\n",
    "\n",
    "Doncic = np.linalg.solve(D_A ,D_b)\n",
    "Doncic"
   ]
  },
  {
   "cell_type": "code",
   "execution_count": 35,
   "metadata": {},
   "outputs": [
    {
     "data": {
      "text/plain": [
       "'rang(D_A)=2, rang(D_Ab)=2, število neznank: 2, det(A)=1.0000000000000002'"
      ]
     },
     "execution_count": 35,
     "metadata": {},
     "output_type": "execute_result"
    }
   ],
   "source": [
    "# Lahko preverimo rang in determinanto:\n",
    "\n",
    "f'rang(D_A)={np.linalg.matrix_rank(D_A)}, rang(D_Ab)={np.linalg.matrix_rank(D_Ab)}, \\\n",
    "število neznank: {len(D_A[:,0])}, det(A)={np.linalg.det(D_A)}'"
   ]
  },
  {
   "cell_type": "code",
   "execution_count": 36,
   "metadata": {},
   "outputs": [
    {
     "data": {
      "text/plain": [
       "14.933034373659252"
      ]
     },
     "execution_count": 36,
     "metadata": {},
     "output_type": "execute_result"
    }
   ],
   "source": [
    "# Tudi lahko pogledamo pogojenost:\n",
    "\n",
    "np.linalg.cond(D_A)"
   ]
  },
  {
   "cell_type": "code",
   "execution_count": 37,
   "metadata": {},
   "outputs": [],
   "source": [
    "# Enak postopek bom uporabil tudi za izračun Trae Young-a in Deandre Ayton-a.\n",
    "\n",
    "# Trae Young\n",
    "\n",
    "T_A = np.array([(3,2),\n",
    "                 (1,1)])\n",
    "T_b = np.array([float(TRAE_SEZONA[2])-float(TRAE_SEZONA[1]),\n",
    "                 float(TRAE_SEZONA[0])])\n",
    "\n",
    "\n",
    "Trae = np.linalg.solve(T_A,T_b)\n",
    "\n",
    "# Deandre Ayton\n",
    "\n",
    "A_A = np.array([(3,2),\n",
    "                 (1,1)])\n",
    "A_b = np.array([float(AYTON_SEZONA[2])-float(AYTON_SEZONA[1]),\n",
    "                 float(AYTON_SEZONA[0])])\n",
    "\n",
    "Ayton = np.linalg.solve(A_A,A_b)"
   ]
  },
  {
   "cell_type": "markdown",
   "metadata": {},
   "source": [
    "\n"
   ]
  },
  {
   "cell_type": "markdown",
   "metadata": {},
   "source": [
    "Resitve zgoraj smo dobili v obliki array-ov. Kako bi predstavil podatke na razumljiv način bom uporabil paket pandas."
   ]
  },
  {
   "cell_type": "markdown",
   "metadata": {},
   "source": [
    "\n"
   ]
  },
  {
   "cell_type": "code",
   "execution_count": 38,
   "metadata": {},
   "outputs": [
    {
     "data": {
      "text/html": [
       "<div>\n",
       "<style scoped>\n",
       "    .dataframe tbody tr th:only-of-type {\n",
       "        vertical-align: middle;\n",
       "    }\n",
       "\n",
       "    .dataframe tbody tr th {\n",
       "        vertical-align: top;\n",
       "    }\n",
       "\n",
       "    .dataframe thead th {\n",
       "        text-align: right;\n",
       "    }\n",
       "</style>\n",
       "<table border=\"1\" class=\"dataframe\">\n",
       "  <thead>\n",
       "    <tr style=\"text-align: right;\">\n",
       "      <th></th>\n",
       "      <th>Ime</th>\n",
       "      <th>3 pike</th>\n",
       "      <th>2 piki</th>\n",
       "    </tr>\n",
       "  </thead>\n",
       "  <tbody>\n",
       "    <tr>\n",
       "      <th>0</th>\n",
       "      <td>Luka Doncic</td>\n",
       "      <td>168.0</td>\n",
       "      <td>338.0</td>\n",
       "    </tr>\n",
       "    <tr>\n",
       "      <th>1</th>\n",
       "      <td>Trae Young</td>\n",
       "      <td>156.0</td>\n",
       "      <td>369.0</td>\n",
       "    </tr>\n",
       "    <tr>\n",
       "      <th>2</th>\n",
       "      <td>Deandre Ayton</td>\n",
       "      <td>0.0</td>\n",
       "      <td>509.0</td>\n",
       "    </tr>\n",
       "  </tbody>\n",
       "</table>\n",
       "</div>"
      ],
      "text/plain": [
       "             Ime  3 pike  2 piki\n",
       "0    Luka Doncic   168.0   338.0\n",
       "1     Trae Young   156.0   369.0\n",
       "2  Deandre Ayton     0.0   509.0"
      ]
     },
     "metadata": {},
     "output_type": "display_data"
    }
   ],
   "source": [
    "Igralec = {'Ime': ['Luka Doncic','Trae Young','Deandre Ayton'],\n",
    "        '3 pike': [Doncic[0],Trae[0],Ayton[0]],\n",
    "           '2 piki': [Doncic[1],Trae[1],Ayton[1]]\n",
    "        }\n",
    "\n",
    "Tabela1 = pd.DataFrame(Igralec, columns = ['Ime', '3 pike', '2 piki'])\n",
    "display(Tabela1)"
   ]
  },
  {
   "cell_type": "markdown",
   "metadata": {},
   "source": [
    "\n"
   ]
  },
  {
   "cell_type": "markdown",
   "metadata": {},
   "source": [
    "Kolikokrat igralec naredi 3 točke, ni edino merilo kako dober igralec je v resnici. Zgoraj lahko vidimo da Dončić, čeprav je blizu Trae-ja, ima največje število trojk. Ayton, ki je center, vidimo, da v tej sezoni ni niti enega dosegel. To je le ena statistika pri kateri Dončić sije nad ostalimi, in tukaj sem pokazal enega izmed njih. Njegov neverjeten slog igre in nesebičnost sta mu na koncu prinesla nagrado in ne njegova sposobnost doseganja treh točk. Moja ideja zgoraj je bila pokazati, kako preprosta je NBA statistika z malo računalniške magije."
   ]
  },
  {
   "cell_type": "markdown",
   "metadata": {},
   "source": [
    "\n"
   ]
  },
  {
   "cell_type": "markdown",
   "metadata": {},
   "source": [
    "# Interpolacija/Aproksimacija"
   ]
  },
  {
   "cell_type": "markdown",
   "metadata": {},
   "source": [
    "\n"
   ]
  },
  {
   "cell_type": "markdown",
   "metadata": {},
   "source": [
    "<img src=\"Tracy.jpg\">"
   ]
  },
  {
   "cell_type": "markdown",
   "metadata": {},
   "source": [
    "\n"
   ]
  },
  {
   "cell_type": "markdown",
   "metadata": {},
   "source": [
    "Vsi imajo radi dobro zgodbo o junakih! 9. decembra 2004 je Tracy McGrady postala junak, kateri so vsi želeli biti. Zdelo se je kot običajna tekma, Rockets-i so za Spurs-om zaostajali za 12 točk, v igri pa jim je ostalo le še 33 sekund. Ljudje so se že začeli spakirati in iti domov, ko se je zgodila čudez. Tracy McGrady je v 33 sekundah dosegel 13 točk in zmagal pred neverjetno domačo publiko. Od takrat je Tracy postal zvezda."
   ]
  },
  {
   "cell_type": "markdown",
   "metadata": {},
   "source": [
    "Toliko zbranih točk v tako kratkem času ni nekaj kar vidite vsak dan, zato sem se odločil uporabiti to statistiko. Želel sem videti, koliko točk bi dal Tracy, če bi nadaljeval s tem tempom od začetka tekme. To sem našel. Prvo kar sem naredil je to da sem pregledal posnetek konca tekme na YouTube-u. Sa posnetka opazoval uro in pisal čase v katerih je Tracy dosegel točke. Te podatke bom sedaj preoblikoval v podatke katere bom uporabljal v preračunu:"
   ]
  },
  {
   "cell_type": "markdown",
   "metadata": {},
   "source": [
    "\n"
   ]
  },
  {
   "cell_type": "code",
   "execution_count": 39,
   "metadata": {},
   "outputs": [
    {
     "data": {
      "text/plain": [
       "array([ 0. , 10.7, 23.8, 33.3])"
      ]
     },
     "metadata": {},
     "output_type": "display_data"
    }
   ],
   "source": [
    "Izmerjen_Cas = [35, 24.3, 11.2, 1.7] # Časi predstavljajo trenutke ko se igra vstavila po doseganju točk.\n",
    "\n",
    "# Uporabil sem enostavno if zanko in sem pri tem dobil array trenutkov ko je Tracy dosegal točke.\n",
    "\n",
    "x_List = [0]\n",
    "x_0 = 0\n",
    "for t, i in enumerate(Izmerjen_Cas):\n",
    "    if t <= len(Izmerjen_Cas)-2:\n",
    "        x_0 = abs(Izmerjen_Cas[t]-Izmerjen_Cas[t+1]) + x_0 \n",
    "        x_List.append(x_0)\n",
    "    else:\n",
    "        pass\n",
    "Casi = np.array(x_List)\n",
    "display(Casi)"
   ]
  },
  {
   "cell_type": "code",
   "execution_count": 40,
   "metadata": {},
   "outputs": [
    {
     "data": {
      "text/plain": [
       "array([ 3,  7, 10, 13])"
      ]
     },
     "metadata": {},
     "output_type": "display_data"
    }
   ],
   "source": [
    "# Po vsaki dosegnuti piki sem zapisal tudi koliko je pik dobil.\n",
    "\n",
    "\n",
    "Izmerjene_pike = [3, 4, 3, 3] # 4 pike je možno dobiti samo v slućaju da pri doseganju 3 dočk dobite faul. Po tem imate še en prosti met.\n",
    "\n",
    "y_List = []\n",
    "y_0 = 0\n",
    "for i in Izmerjene_pike:\n",
    "    y_0 = i + y_0\n",
    "    y_List.append(y_0)\n",
    "Pike = np.array(y_List)\n",
    "display(Pike) # Vidimo kumulacijo točk v času od 33 sekund."
   ]
  },
  {
   "cell_type": "code",
   "execution_count": 41,
   "metadata": {},
   "outputs": [
    {
     "data": {
      "text/plain": [
       "<matplotlib.legend.Legend at 0x2d18ba76190>"
      ]
     },
     "execution_count": 41,
     "metadata": {},
     "output_type": "execute_result"
    },
    {
     "data": {
      "image/png": "[encoded data removed]",
      "text/plain": [
       "<Figure size 1152x576 with 1 Axes>"
      ]
     },
     "metadata": {
      "needs_background": "light"
     },
     "output_type": "display_data"
    }
   ],
   "source": [
    "# Sedaj lahko narišemo graf.\n",
    "\n",
    "plt.figure(figsize=(16, 8))\n",
    "plt.plot(Casi, Pike, 'ro', label='Merjeni podatki')\n",
    "plt.xlabel('Čas [$s$]', fontsize=15)\n",
    "plt.ylabel('Pike', fontsize=15)\n",
    "plt.grid()\n",
    "plt.legend(fontsize=15)"
   ]
  },
  {
   "cell_type": "code",
   "execution_count": 42,
   "metadata": {},
   "outputs": [
    {
     "data": {
      "text/plain": [
       "<matplotlib.legend.Legend at 0x2d18c01c910>"
      ]
     },
     "execution_count": 42,
     "metadata": {},
     "output_type": "execute_result"
    },
    {
     "data": {
      "image/png": "[encoded data removed]",
      "text/plain": [
       "<Figure size 1152x576 with 1 Axes>"
      ]
     },
     "metadata": {
      "needs_background": "light"
     },
     "output_type": "display_data"
    }
   ],
   "source": [
    "# Bomo uporabili numpy.polyfit in numpy.poly1d kako bi dobili aproksimirane funkcije.\n",
    "# Najprej bomo naredili linearno aproksimacijo:\n",
    "\n",
    "K1 = np.polyfit(Casi, Pike, deg=1)\n",
    "Funk_1 = np.poly1d(K1)\n",
    "\n",
    "# Naredimo numerično polje časov tako da bomo čas razbili na 100 točk:\n",
    "\n",
    "t, h = np.linspace(Casi[0], Casi[-1], 100, retstep=True) # Korak 'h' bom uporabil kasneje pri numeričnem odvajanju.\n",
    "\n",
    "# Lahko je narišemo s uporabo matplotlib:\n",
    "\n",
    "plt.figure(figsize=(16, 8))\n",
    "plt.plot(t, Funk_1(t), 'g', label = 'Linearna aproksimacija')\n",
    "plt.plot(Casi, Pike, 'ro', label='Merjeni podatki')\n",
    "plt.grid()\n",
    "plt.xlabel('Čas [$s$]', fontsize=15)\n",
    "plt.ylabel('Pike', fontsize=15)\n",
    "plt.legend(fontsize=15)"
   ]
  },
  {
   "cell_type": "markdown",
   "metadata": {},
   "source": [
    "\n"
   ]
  },
  {
   "cell_type": "markdown",
   "metadata": {},
   "source": [
    "V primeru linearne aproksimacije vidimo da se na samem začetku vrednost ne poklapa. Zato bom tudi naredil kubično aproksimacijo da vidim ali bo ona rešila ta problem."
   ]
  },
  {
   "cell_type": "markdown",
   "metadata": {},
   "source": [
    "\n"
   ]
  },
  {
   "cell_type": "code",
   "execution_count": 43,
   "metadata": {},
   "outputs": [
    {
     "data": {
      "text/plain": [
       "<matplotlib.legend.Legend at 0x2d18c231e20>"
      ]
     },
     "execution_count": 43,
     "metadata": {},
     "output_type": "execute_result"
    },
    {
     "data": {
      "image/png": "[encoded data removed]",
      "text/plain": [
       "<Figure size 1152x576 with 1 Axes>"
      ]
     },
     "metadata": {
      "needs_background": "light"
     },
     "output_type": "display_data"
    }
   ],
   "source": [
    "# Sedaj bom naredil kubično aproksimacijo:\n",
    "\n",
    "K2 = np.polyfit(Casi, Pike, deg=3)\n",
    "Funk_2 = np.poly1d(K2)\n",
    "\n",
    "# Poglejmo graf:\n",
    "\n",
    "plt.figure(figsize=(16, 8))\n",
    "plt.plot(t, Funk_2(t), 'k', label = 'Kubična aproksimacija')\n",
    "plt.plot(Casi, Pike, 'ro', label='Merjeni podatki')\n",
    "plt.grid()\n",
    "plt.xlabel('Čas [$s$]', fontsize=15)\n",
    "plt.ylabel('Pike', fontsize=15)\n",
    "plt.legend(fontsize=15)"
   ]
  },
  {
   "cell_type": "markdown",
   "metadata": {},
   "source": [
    "\n"
   ]
  },
  {
   "cell_type": "markdown",
   "metadata": {},
   "source": [
    "\n"
   ]
  },
  {
   "cell_type": "markdown",
   "metadata": {},
   "source": [
    "**Vidimo da kubična aproksimacija reši ta problem.**"
   ]
  },
  {
   "cell_type": "markdown",
   "metadata": {},
   "source": [
    "Sedaj ko imamo aproksimacijske funkcije lahko rešimo nalogo:"
   ]
  },
  {
   "cell_type": "code",
   "execution_count": 44,
   "metadata": {},
   "outputs": [],
   "source": [
    "# Podatek sem najdel na spletu da je tekma v proseku 2h in 11min dolga.\n",
    "\n",
    "Cas_tekme = 7860 #s"
   ]
  },
  {
   "cell_type": "code",
   "execution_count": 45,
   "metadata": {
    "scrolled": true
   },
   "outputs": [
    {
     "name": "stdout",
     "output_type": "stream",
     "text": [
      "Za celo tekmo, če bi dosegoval točke enakim tempom, Tracy bi dosegel 2291.0 točk!\n"
     ]
    }
   ],
   "source": [
    "# S linearnom aproksimacijo pridemo do rešitve:\n",
    "\n",
    "print(f'Za celo tekmo, če bi dosegoval točke enakim tempom, Tracy bi dosegel {Funk_1(Cas_tekme):.5} točk!')"
   ]
  },
  {
   "cell_type": "code",
   "execution_count": 46,
   "metadata": {},
   "outputs": [
    {
     "name": "stdout",
     "output_type": "stream",
     "text": [
      "Če uborabimo funkcijo katero smo dobili s kubično aproksimacijo, Tracy bi dosegel 143720621.6 točk!\n"
     ]
    }
   ],
   "source": [
    "# Kubicnom aproksimacijom pridemo do resitve:\n",
    "\n",
    "print(f'Če uborabimo funkcijo katero smo dobili s kubično aproksimacijo, Tracy bi dosegel {Funk_2(Cas_tekme):.10} točk!')"
   ]
  },
  {
   "cell_type": "markdown",
   "metadata": {},
   "source": [
    "Vidimo da v primeru ko vstavimo vrednost \"Cas_tekme\" v funkcijo kubične aproksimacije dobimo izjemno veliko število. Vedli smo da bo število pik veliko ampak tak veliko ni možno!"
   ]
  },
  {
   "cell_type": "markdown",
   "metadata": {},
   "source": [
    "Bomo uporabili numericno odvajanje kako bi najdli približno rešitev tako da uporabimo kubično aproksimacijo!"
   ]
  },
  {
   "cell_type": "markdown",
   "metadata": {},
   "source": [
    "# Integriranje/Odvajanje"
   ]
  },
  {
   "cell_type": "markdown",
   "metadata": {},
   "source": [
    "\n"
   ]
  },
  {
   "cell_type": "markdown",
   "metadata": {},
   "source": [
    "Odvajanje, kot smo spoznali pri fiziki, je zelo pomembno in uporabno. V prvem letniku ko smo se ukvarjali s hitrostmi in pospeski in smo se naučili eno zelo pomembno enačbo:"
   ]
  },
  {
   "cell_type": "markdown",
   "metadata": {},
   "source": [
    "$$ v=\\frac{dS}{dt} $$"
   ]
  },
  {
   "cell_type": "markdown",
   "metadata": {},
   "source": [
    "Do hitrosti lahko pridemo odvajanjem poti po času. Ta princip bom tudi uporabil v mojem projektu. Odvajanjem bom dobil podatek kako hitro Tracy doseže točke. Numerično odvajanje nam bo dalo te hitrosti kot numpy.array. Od teh odvodov bom najdel povprečno hitrost in je uporabil za izračun:"
   ]
  },
  {
   "cell_type": "code",
   "execution_count": 47,
   "metadata": {},
   "outputs": [
    {
     "data": {
      "text/plain": [
       "array([0.50937058, 0.50396626, 0.49325878, 0.48275363, 0.4724508 ,\n",
       "       0.4623503 , 0.45245213, 0.44275629, 0.43326277, 0.42397158,\n",
       "       0.41488272, 0.40599618, 0.39731197, 0.38883009, 0.38055053,\n",
       "       0.3724733 , 0.3645984 , 0.35692582, 0.34945557, 0.34218765,\n",
       "       0.33512206, 0.32825879, 0.32159785, 0.31513923, 0.30888294,\n",
       "       0.30282898, 0.29697735, 0.29132804, 0.28588106, 0.28063641,\n",
       "       0.27559408, 0.27075408, 0.26611641, 0.26168106, 0.25744804,\n",
       "       0.25341735, 0.24958899, 0.24596295, 0.24253924, 0.23931785,\n",
       "       0.23629879, 0.23348206, 0.23086766, 0.22845558, 0.22624583,\n",
       "       0.2242384 , 0.22243331, 0.22083054, 0.21943009, 0.21823198,\n",
       "       0.21723619, 0.21644273, 0.21585159, 0.21546278, 0.2152763 ,\n",
       "       0.21529214, 0.21551032, 0.21593081, 0.21655364, 0.21737879,\n",
       "       0.21840627, 0.21963608, 0.22106821, 0.22270267, 0.22453945,\n",
       "       0.22657857, 0.22882001, 0.23126377, 0.23390987, 0.23675829,\n",
       "       0.23980904, 0.24306211, 0.24651751, 0.25017524, 0.2540353 ,\n",
       "       0.25809768, 0.26236239, 0.26682942, 0.27149878, 0.27637047,\n",
       "       0.28144449, 0.28672083, 0.2921995 , 0.2978805 , 0.30376382,\n",
       "       0.30984947, 0.31613745, 0.32262775, 0.32932038, 0.33621534,\n",
       "       0.34331263, 0.35061224, 0.35811418, 0.36581844, 0.37372503,\n",
       "       0.38183395, 0.3901452 , 0.39865877, 0.40737467, 0.4117832 ])"
      ]
     },
     "metadata": {},
     "output_type": "display_data"
    }
   ],
   "source": [
    "# Prvo bomo naredili numerično polje y vrednosti.\n",
    "\n",
    "Vrednosti_funkcije2 = Funk_2(t)\n",
    "\n",
    "# Odvod izračunamo tako da uporabimo numpy.gradient:\n",
    "\n",
    "Odvod_funkcije2 = np.gradient(Vrednosti_funkcije2, h)\n",
    "display(Odvod_funkcije2) # Vidimo numerično polje odvodov v vsaki točki."
   ]
  },
  {
   "cell_type": "code",
   "execution_count": 48,
   "metadata": {},
   "outputs": [
    {
     "data": {
      "text/plain": [
       "<matplotlib.legend.Legend at 0x2d18960f280>"
      ]
     },
     "execution_count": 48,
     "metadata": {},
     "output_type": "execute_result"
    },
    {
     "data": {
      "image/png": "[encoded data removed]",
      "text/plain": [
       "<Figure size 1152x576 with 1 Axes>"
      ]
     },
     "metadata": {
      "needs_background": "light"
     },
     "output_type": "display_data"
    }
   ],
   "source": [
    "# Lahko predstavimo odvode na grafu:\n",
    "\n",
    "plt.figure(figsize=(16, 8))\n",
    "plt.title('Sprememba hitrosti po času')\n",
    "plt.plot(t,Odvod_funkcije2, 'm', label='Prvi odvod, Kubična')\n",
    "plt.grid()\n",
    "plt.xlabel('Čas [$s$]', fontsize=15)\n",
    "plt.ylabel('Hitrost [$pik/s$]', fontsize=15)\n",
    "plt.legend(fontsize=15)"
   ]
  },
  {
   "cell_type": "code",
   "execution_count": 49,
   "metadata": {},
   "outputs": [
    {
     "name": "stdout",
     "output_type": "stream",
     "text": [
      "Če sedaj uporabimo kubično aproksimacijo in odvajanje dobimo da bi Tracy dosegel 2373.0 točk!\n"
     ]
    }
   ],
   "source": [
    "# Povprečno hitrost izračunamo tako:\n",
    "\n",
    "Povprecje = Odvod_funkcije2.mean()\n",
    "\n",
    "# In končni rezultat dobimo tako da povprečje zmnožimo s časom tekme:\n",
    "\n",
    "Stevilo_pik = Povprecje * Cas_tekme\n",
    "print(f'Če sedaj uporabimo kubično aproksimacijo in odvajanje dobimo da bi Tracy dosegel {Stevilo_pik:.5} točk!')"
   ]
  },
  {
   "cell_type": "code",
   "execution_count": 50,
   "metadata": {},
   "outputs": [
    {
     "data": {
      "text/plain": [
       "array([0.29105072, 0.29105072, 0.29105072, 0.29105072, 0.29105072,\n",
       "       0.29105072, 0.29105072, 0.29105072, 0.29105072, 0.29105072,\n",
       "       0.29105072, 0.29105072, 0.29105072, 0.29105072, 0.29105072,\n",
       "       0.29105072, 0.29105072, 0.29105072, 0.29105072, 0.29105072,\n",
       "       0.29105072, 0.29105072, 0.29105072, 0.29105072, 0.29105072,\n",
       "       0.29105072, 0.29105072, 0.29105072, 0.29105072, 0.29105072,\n",
       "       0.29105072, 0.29105072, 0.29105072, 0.29105072, 0.29105072,\n",
       "       0.29105072, 0.29105072, 0.29105072, 0.29105072, 0.29105072,\n",
       "       0.29105072, 0.29105072, 0.29105072, 0.29105072, 0.29105072,\n",
       "       0.29105072, 0.29105072, 0.29105072, 0.29105072, 0.29105072,\n",
       "       0.29105072, 0.29105072, 0.29105072, 0.29105072, 0.29105072,\n",
       "       0.29105072, 0.29105072, 0.29105072, 0.29105072, 0.29105072,\n",
       "       0.29105072, 0.29105072, 0.29105072, 0.29105072, 0.29105072,\n",
       "       0.29105072, 0.29105072, 0.29105072, 0.29105072, 0.29105072,\n",
       "       0.29105072, 0.29105072, 0.29105072, 0.29105072, 0.29105072,\n",
       "       0.29105072, 0.29105072, 0.29105072, 0.29105072, 0.29105072,\n",
       "       0.29105072, 0.29105072, 0.29105072, 0.29105072, 0.29105072,\n",
       "       0.29105072, 0.29105072, 0.29105072, 0.29105072, 0.29105072,\n",
       "       0.29105072, 0.29105072, 0.29105072, 0.29105072, 0.29105072,\n",
       "       0.29105072, 0.29105072, 0.29105072, 0.29105072, 0.29105072])"
      ]
     },
     "metadata": {},
     "output_type": "display_data"
    }
   ],
   "source": [
    "# Lahko tudi najdemo odvod linearne funkcije:\n",
    "\n",
    "Vrednosti_funkcije1 = Funk_1(t)\n",
    "Odvod_funkcije1 = np.gradient(Vrednosti_funkcije1, h)\n",
    "display(Odvod_funkcije1) # Vidimo da je v vsaki točki enak odvod. To je prav ker je linearna funkcija!"
   ]
  },
  {
   "cell_type": "code",
   "execution_count": 51,
   "metadata": {},
   "outputs": [
    {
     "data": {
      "text/plain": [
       "<matplotlib.legend.Legend at 0x2d1893c6100>"
      ]
     },
     "execution_count": 51,
     "metadata": {},
     "output_type": "execute_result"
    },
    {
     "data": {
      "image/png": "[encoded data removed]",
      "text/plain": [
       "<Figure size 1152x576 with 1 Axes>"
      ]
     },
     "metadata": {
      "needs_background": "light"
     },
     "output_type": "display_data"
    }
   ],
   "source": [
    "# Lahko sedaj izrišemo graf:\n",
    "\n",
    "plt.figure(figsize=(16, 8))\n",
    "plt.title('Sprememba hitrosti po času')\n",
    "plt.plot(t,Odvod_funkcije1, 'm', label='Prvi odvod, Linearna')\n",
    "plt.grid()\n",
    "plt.xlabel('Čas [$s$]', fontsize=15)\n",
    "plt.ylabel('Hitrost [$pik/s$]', fontsize=15)\n",
    "plt.legend(fontsize=15)"
   ]
  },
  {
   "cell_type": "markdown",
   "metadata": {},
   "source": [
    "\n"
   ]
  },
  {
   "cell_type": "markdown",
   "metadata": {},
   "source": [
    "**Zgoraj v array-u vidimo da so nam cse stevilke enake ampak dejansko to ni res. Ko narišemo graf vidimo da pri naših odvodov imamo šum!**"
   ]
  },
  {
   "cell_type": "markdown",
   "metadata": {},
   "source": [
    "Vidimo da smo dobili zelo podobne podatke ko smo uporabili linearno in kubično aproksimacijo. Lahko jih predstavimo v enostavni tabeli:"
   ]
  },
  {
   "cell_type": "code",
   "execution_count": 52,
   "metadata": {},
   "outputs": [
    {
     "data": {
      "text/html": [
       "<div>\n",
       "<style scoped>\n",
       "    .dataframe tbody tr th:only-of-type {\n",
       "        vertical-align: middle;\n",
       "    }\n",
       "\n",
       "    .dataframe tbody tr th {\n",
       "        vertical-align: top;\n",
       "    }\n",
       "\n",
       "    .dataframe thead th {\n",
       "        text-align: right;\n",
       "    }\n",
       "</style>\n",
       "<table border=\"1\" class=\"dataframe\">\n",
       "  <thead>\n",
       "    <tr style=\"text-align: right;\">\n",
       "      <th></th>\n",
       "      <th>Aproksimacija</th>\n",
       "      <th>Število pik</th>\n",
       "    </tr>\n",
       "  </thead>\n",
       "  <tbody>\n",
       "    <tr>\n",
       "      <th>0</th>\n",
       "      <td>Linearna</td>\n",
       "      <td>2290.975328</td>\n",
       "    </tr>\n",
       "    <tr>\n",
       "      <th>1</th>\n",
       "      <td>Kubična</td>\n",
       "      <td>2372.958100</td>\n",
       "    </tr>\n",
       "  </tbody>\n",
       "</table>\n",
       "</div>"
      ],
      "text/plain": [
       "  Aproksimacija  Število pik\n",
       "0      Linearna  2290.975328\n",
       "1       Kubična  2372.958100"
      ]
     },
     "metadata": {},
     "output_type": "display_data"
    }
   ],
   "source": [
    "Aproksimacija = {'Aproksimacija': ['Linearna','Kubična'],\n",
    "        'Število pik': [Funk_1(Cas_tekme),Stevilo_pik],\n",
    "        }\n",
    "\n",
    "Tabela2 = pd.DataFrame(Aproksimacija, columns = ['Aproksimacija', 'Število pik'])\n",
    "display(Tabela2)"
   ]
  },
  {
   "cell_type": "markdown",
   "metadata": {},
   "source": [
    "\n"
   ]
  },
  {
   "cell_type": "markdown",
   "metadata": {},
   "source": [
    "**Najvecje število točk v eni tekmi je dosegal Wilt Chamberlain in on je dosegel 100 točk. Če pogledamo koliko točk bi Tracy dosegal vidimo koliko je bilo neverjetno to kar je on naredil!**"
   ]
  },
  {
   "cell_type": "markdown",
   "metadata": {},
   "source": [
    "\n"
   ]
  },
  {
   "cell_type": "markdown",
   "metadata": {},
   "source": [
    "# Diferencialne enačbe"
   ]
  },
  {
   "cell_type": "markdown",
   "metadata": {},
   "source": [
    "\n"
   ]
  },
  {
   "cell_type": "markdown",
   "metadata": {},
   "source": [
    "<img src=\"Curry.jpg\">"
   ]
  },
  {
   "cell_type": "markdown",
   "metadata": {},
   "source": [
    "\n"
   ]
  },
  {
   "cell_type": "markdown",
   "metadata": {},
   "source": [
    "Steph Curry je priznan za najboljšega strelca s linije 3 točke vseh časov in se še ni niti upokojil! Če bi analiziral nekoga, seveda bi izbral njega, mojega najljubšega strelca. Na njegovem primeru si bom ogledal vse podrobnosti košarkarskega meta v tem delu mojega projekta."
   ]
  },
  {
   "cell_type": "markdown",
   "metadata": {},
   "source": [
    "V primeru meta Curry-a imamo opravka s poševnim metom. Diferencialne enačbe za poševni met so:"
   ]
  },
  {
   "cell_type": "markdown",
   "metadata": {},
   "source": [
    "  $$ \\ddot{x}(t)=-\\frac{F_{u}*cos(\\alpha)}{m};\\ddot{y}(t)=-\\frac{F_{u}*sin(\\alpha)}{m}-g $$"
   ]
  },
  {
   "cell_type": "markdown",
   "metadata": {},
   "source": [
    "Gor vidimo kako se pospeški v smeri x in y spreminjajo s časom. V teh enacbah vidimo da se pojavi sila upora katero tudi moramo opisati. Opisali je bomo na naslednji način:"
   ]
  },
  {
   "cell_type": "markdown",
   "metadata": {},
   "source": [
    "$$ F_{u}=\\frac{1}{2}*\\rho*v^{2}*c_{u}*A $$"
   ]
  },
  {
   "cell_type": "markdown",
   "metadata": {},
   "source": [
    "Moramo še 2 dodatni enačbi napisati kako bi naša naloga bila do konca definirana in lahko začnemo s reševanjem:"
   ]
  },
  {
   "cell_type": "markdown",
   "metadata": {},
   "source": [
    "$$ v=\\sqrt{\\dot{x}^{2}+\\dot{y}^{2}} ; \\alpha=\\arctan(\\frac{\\dot{y}}{\\dot{x}}) $$"
   ]
  },
  {
   "cell_type": "markdown",
   "metadata": {},
   "source": [
    "\n"
   ]
  },
  {
   "cell_type": "markdown",
   "metadata": {},
   "source": [
    "**Začetne podatke bomo dobili analizom slike meta, na koncu te naloge bomo dobili iskano vrednost!**"
   ]
  },
  {
   "cell_type": "markdown",
   "metadata": {},
   "source": [
    "\n"
   ]
  },
  {
   "cell_type": "markdown",
   "metadata": {},
   "source": [
    "<img src=\"Curry1.jpg\">"
   ]
  },
  {
   "cell_type": "markdown",
   "metadata": {},
   "source": [
    "\n"
   ]
  },
  {
   "cell_type": "markdown",
   "metadata": {},
   "source": [
    "Sa slike lahko preberemo da imamo začetno hitrost meta, začetni kot meta in začetno višino meta. Vse podatke lahko zapišemo spodaj:"
   ]
  },
  {
   "cell_type": "code",
   "execution_count": 53,
   "metadata": {},
   "outputs": [],
   "source": [
    "# Kot je potrebno spremeniti v radiane in to bom najprej naredil.\n",
    "\n",
    "alpha_stopinj = 51.89 #°\n",
    "alpha0 = alpha_stopinj * (np.pi/180) #rad\n",
    "\n",
    "# Drugi podatki.\n",
    "\n",
    "g = 9.81 #m/s^2\n",
    "h_0 = 3.048 #m\n",
    "v0 = 8.552 #m/s\n",
    "m = 0.6237 #kg  Uporabili smo ta podatek tudi pri simbolnem resevanju. \n",
    "ro = 1.225 #kg/m^3  Gostota zraka.\n",
    "c_u = 0.54 #/   Zračni upor žoge, odčitan iz: Identification of basketball parameters for a simulation model; Hiroki Okuboa, Mont Hubbardb\n",
    "A = (0.24/2)**2 * np.pi #m^2 Površina preseka žoge."
   ]
  },
  {
   "cell_type": "code",
   "execution_count": 54,
   "metadata": {},
   "outputs": [],
   "source": [
    "# Prvo bomo naredili seznam začetnih pogojev.\n",
    "\n",
    "y0 = [0, np.cos(alpha0)*v0, h_0, np.sin(alpha0)*v0]"
   ]
  },
  {
   "cell_type": "code",
   "execution_count": 55,
   "metadata": {},
   "outputs": [],
   "source": [
    "# Sedaj bom naredil funkcijo odvodov.\n",
    "\n",
    "def Diferencialna(t, y, g, m, ro, c_u, A):\n",
    "    \n",
    "    \"\"\"Funkcija katero uporabimo za izračun diferencialnih enačb.\n",
    "    \n",
    "Podatki katere je potrebno vstaviti:\n",
    "\n",
    "t = Časovni interval na kateremu računamo\n",
    "y = Array v katerem smo prvič zamenjali pomike in hitrosti spremenljivkama \n",
    "\n",
    "Koeficienti:\n",
    "\n",
    "g = Gravitacijski pospešek\n",
    "m = Masa žoge\n",
    "ro = Gostota zraka\n",
    "c_u = Koeficient upora\n",
    "A = Površina preseka žoge\n",
    "\n",
    "\n",
    "    \"\"\"\n",
    "    v = np.sqrt(y[1]**2 + y[3]**2)\n",
    "    \n",
    "    alpha = np.arctan2(y[3], y[1])\n",
    "    \n",
    "    F_u = 0.5 * ro * v**2 * c_u * A\n",
    "    \n",
    "    return np.array([y[1], -F_u*np.cos(alpha)/m, y[3], -F_u*np.sin(alpha)/m - g])"
   ]
  },
  {
   "cell_type": "markdown",
   "metadata": {},
   "source": [
    "**Opazovanjem meta Curry-a na YouTube-u sem prišel do tega da je čas poreben za celoten met 1.5 sekund. Kako bi opisal met v celoti in zaradi varnosti bom čas opazovanja namestil da je 2 sekundi!**"
   ]
  },
  {
   "cell_type": "markdown",
   "metadata": {},
   "source": [
    "**V tem delu projekta ne bom uporabil event kako bi končal met ko je y=0 zaradi lažje predstavitve grafov. Ta event opcija je obravnavana na koncu projekta.**"
   ]
  },
  {
   "cell_type": "code",
   "execution_count": 56,
   "metadata": {},
   "outputs": [],
   "source": [
    "t_Curry = np.linspace(0, 2, 100)"
   ]
  },
  {
   "cell_type": "code",
   "execution_count": 57,
   "metadata": {
    "scrolled": true
   },
   "outputs": [
    {
     "data": {
      "text/plain": [
       "array([[  0.        ,   0.10640855,   0.2123867 ,   0.3179457 ,\n",
       "          0.42309652,   0.52784988,   0.63221619,   0.73620556,\n",
       "          0.83982781,   0.94309249,   1.04600883,   1.14858577,\n",
       "          1.25083197,   1.35275577,   1.45436524,   1.55566816,\n",
       "          1.65667199,   1.75738392,   1.85781084,   1.95797153,\n",
       "          2.0578839 ,   2.15754975,   2.25697071,   2.35614828,\n",
       "          2.45508382,   2.55377853,   2.65223351,   2.75044968,\n",
       "          2.84842785,   2.94616868,   3.0436727 ,   3.1409403 ,\n",
       "          3.23797172,   3.33476707,   3.43132633,   3.52764933,\n",
       "          3.62373576,   3.71958519,   3.81519702,   3.91057054,\n",
       "          4.00570489,   4.10059907,   4.19525196,   4.28966227,\n",
       "          4.38382859,   4.47774937,   4.57142293,   4.66484744,\n",
       "          4.75802093,   4.8509413 ,   4.94360631,   5.03601357,\n",
       "          5.12816057,   5.22004466,   5.31166303,   5.40301275,\n",
       "          5.49409076,   5.58489383,   5.67541863,   5.76566166,\n",
       "          5.8556193 ,   5.94528778,   6.03466321,   6.12374154,\n",
       "          6.21251859,   6.30099006,   6.38915147,   6.47699824,\n",
       "          6.56452564,   6.65172879,   6.73860268,   6.82514218,\n",
       "          6.91134199,   6.99719669,   7.08270071,   7.16784836,\n",
       "          7.2526338 ,   7.33705105,   7.42109399,   7.50475637,\n",
       "          7.5880318 ,   7.67091375,   7.75339554,   7.83547038,\n",
       "          7.9171313 ,   7.99837124,   8.07918297,   8.15956347,\n",
       "          8.23953092,   8.31908587,   8.39822554,   8.47694722,\n",
       "          8.55524832,   8.63312633,   8.71057887,   8.78760361,\n",
       "          8.86419837,   8.94036102,   9.01608956,   9.09138209],\n",
       "       [  5.27806531,   5.25647664,   5.23545331,   5.21498   ,\n",
       "          5.19504244,   5.17562674,   5.15671887,   5.13830474,\n",
       "          5.12037012,   5.10290066,   5.08588194,   5.06929939,\n",
       "          5.05313835,   5.03738404,   5.02202158,   5.00703598,\n",
       "          4.99241213,   4.97813481,   4.96418871,   4.95057234,\n",
       "          4.93728059,   4.9242888 ,   4.91157284,   4.89910912,\n",
       "          4.8868746 ,   4.8748468 ,   4.86300379,   4.85132418,\n",
       "          4.83978713,   4.82837237,   4.81706015,   4.8058313 ,\n",
       "          4.79466717,   4.7835497 ,   4.77246134,   4.76138511,\n",
       "          4.75030458,   4.73920386,   4.72806764,   4.71688111,\n",
       "          4.70563006,   4.69430079,   4.68288018,   4.67135566,\n",
       "          4.65971517,   4.64794726,   4.63604098,   4.62398596,\n",
       "          4.61177236,   4.59939091,   4.58683288,   4.57409009,\n",
       "          4.5611549 ,   4.54802025,   4.5346796 ,   4.52112697,\n",
       "          4.50735694,   4.49336463,   4.47914571,   4.46469641,\n",
       "          4.45001349,   4.43509428,   4.41993666,   4.40453904,\n",
       "          4.38890041,   4.37302028,   4.35689873,   4.34053638,\n",
       "          4.32393441,   4.30709455,   4.29001907,   4.27271079,\n",
       "          4.25517309,   4.2374099 ,   4.2194257 ,   4.2012255 ,\n",
       "          4.18281489,   4.16419999,   4.14538748,   4.12638459,\n",
       "          4.1071991 ,   4.08783933,   4.06831416,   4.04863302,\n",
       "          4.02880588,   4.00884329,   3.98875631,   3.96855073,\n",
       "          3.94820374,   3.92771564,   3.90709134,   3.88633576,\n",
       "          3.86545383,   3.84445048,   3.82333067,   3.80209934,\n",
       "          3.78076145,   3.75932199,   3.73778592,   3.71615823],\n",
       "       [  3.048     ,   3.18165998,   3.31078372,   3.43540143,\n",
       "          3.55554155,   3.67123124,   3.78249678,   3.88936352,\n",
       "          3.99185592,   4.08999751,   4.18381092,   4.27331789,\n",
       "          4.35853922,   4.43949482,   4.5162037 ,   4.58868395,\n",
       "          4.65695274,   4.72102636,   4.78092017,   4.836667  ,\n",
       "          4.88829659,   4.93581386,   4.97922403,   5.01853269,\n",
       "          5.05374576,   5.08486949,   5.1119105 ,   5.13487576,\n",
       "          5.15377255,   5.16860853,   5.17939169,   5.18613038,\n",
       "          5.18883327,   5.18750939,   5.18216812,   5.17281918,\n",
       "          5.15947264,   5.1421389 ,   5.12082872,   5.09555322,\n",
       "          5.06632382,   5.03315234,   4.9960509 ,   4.95503199,\n",
       "          4.91010844,   4.86129342,   4.80860046,   4.75204342,\n",
       "          4.69163651,   4.62739429,   4.55933166,   4.48746388,\n",
       "          4.41180652,   4.33237554,   4.24918721,   4.16225816,\n",
       "          4.07160538,   3.97724617,   3.87919821,   3.77747951,\n",
       "          3.67210842,   3.56310365,   3.45048425,   3.3342696 ,\n",
       "          3.21447945,   3.09113388,   2.96425331,   2.83385854,\n",
       "          2.69997066,   2.56261116,   2.42180184,   2.27756486,\n",
       "          2.12992272,   1.97889827,   1.82451471,   1.66679556,\n",
       "          1.50576472,   1.34144641,   1.17386522,   1.00304605,\n",
       "          0.82901418,   0.65179521,   0.47141511,   0.28790018,\n",
       "          0.10127706,  -0.08842725,  -0.28118542,  -0.47696942,\n",
       "         -0.6757495 ,  -0.8774975 ,  -1.08218545,  -1.28978531,\n",
       "         -1.50026891,  -1.713608  ,  -1.92977423,  -2.14873917,\n",
       "         -2.37047426,  -2.59495087,  -2.82214026,  -3.05201361],\n",
       "       [  6.72894721,   6.50364631,   6.27984821,   6.0574959 ,\n",
       "          5.83653413,   5.61690919,   5.39856873,   5.18146184,\n",
       "          4.96553897,   4.75075199,   4.53705415,   4.32440013,\n",
       "          4.11274596,   3.90204912,   3.69226844,   3.48336417,\n",
       "          3.27529797,   3.06803286,   2.8615333 ,   2.65566565,\n",
       "          2.45030042,   2.24543794,   2.04107918,   1.83722554,\n",
       "          1.63387885,   1.43104137,   1.22871578,   1.0269052 ,\n",
       "          0.82561317,   0.62484368,   0.42460113,   0.22489034,\n",
       "          0.02571659,  -0.17291444,  -0.37099662,  -0.5685234 ,\n",
       "         -0.7654878 ,  -0.96188241,  -1.1576994 ,  -1.35293049,\n",
       "         -1.54756699,  -1.74159977,  -1.93501927,  -2.12781552,\n",
       "         -2.31997809,  -2.51149614,  -2.7023584 ,  -2.89255316,\n",
       "         -3.0820683 ,  -3.27089126,  -3.45900903,  -3.64640821,\n",
       "         -3.83307495,  -4.01899496,  -4.20415354,  -4.38853555,\n",
       "         -4.57212543,  -4.75490718,  -4.93686438,  -5.11798017,\n",
       "         -5.29823727,  -5.47761797,  -5.65610413,  -5.83367717,\n",
       "         -6.01031809,  -6.18600747,  -6.36072545,  -6.53445174,\n",
       "         -6.70716561,  -6.87884593,  -7.04947112,  -7.21901917,\n",
       "         -7.38746766,  -7.5547937 ,  -7.72097402,  -7.88598489,\n",
       "         -8.04980215,  -8.21240124,  -8.37375713,  -8.53384438,\n",
       "         -8.69263714,  -8.85010909,  -9.00623352,  -9.16098327,\n",
       "         -9.31433074,  -9.46624793,  -9.61670639,  -9.76569604,\n",
       "         -9.91329913, -10.05952304, -10.20436087, -10.34780633,\n",
       "        -10.48985367, -10.63049779, -10.76973413, -10.90755875,\n",
       "        -11.04396829, -11.17896   , -11.31253168, -11.44468177]])"
      ]
     },
     "execution_count": 57,
     "metadata": {},
     "output_type": "execute_result"
    }
   ],
   "source": [
    "# Uporabimo solve_ivp kako bi rešili nalogo.\n",
    "\n",
    "\n",
    "Resitev_Curry = solve_ivp(lambda t, y: Diferencialna(t, y, g, m, ro, c_u, A), t_span=(t_Curry[0],t_Curry[-1]), y0=y0, t_eval = t_Curry)\n",
    "Resitev_Curry.y # Tukaj so nam rešitve."
   ]
  },
  {
   "cell_type": "markdown",
   "metadata": {},
   "source": [
    "**Vidimo da nasa rešitev ima 4 stolpca in oni so: pomik v x smeri, hitrost v x smeri, pomik v y smeri in hitrost v y smeri. Tako smo definirali numerično polje y.**"
   ]
  },
  {
   "cell_type": "code",
   "execution_count": 58,
   "metadata": {},
   "outputs": [],
   "source": [
    "# Lahko vsakem stolpcu damo ime.\n",
    "\n",
    "pomik_x, dx, pomik_y, dy = Resitev_Curry.y"
   ]
  },
  {
   "cell_type": "code",
   "execution_count": 59,
   "metadata": {
    "scrolled": false
   },
   "outputs": [
    {
     "data": {
      "text/plain": [
       "<matplotlib.legend.Legend at 0x2d18951e040>"
      ]
     },
     "execution_count": 59,
     "metadata": {},
     "output_type": "execute_result"
    },
    {
     "data": {
      "image/png": "[encoded data removed]",
      "text/plain": [
       "<Figure size 1152x576 with 1 Axes>"
      ]
     },
     "metadata": {
      "needs_background": "light"
     },
     "output_type": "display_data"
    }
   ],
   "source": [
    "# Lahko sedaj izrišemo kako bo izgledal ta met:\n",
    "\n",
    "plt.figure(figsize=(16, 8))\n",
    "plt.title('Met Curry-a', fontsize=15)\n",
    "plt.plot(pomik_x, pomik_y, 'g', label='Potanja žoge')\n",
    "plt.xlabel('Pomik v smeri x [$m$]', fontsize=15)\n",
    "plt.ylabel('Pomik v smeri y [$m$]', fontsize=15)\n",
    "plt.grid()\n",
    "plt.axhline(3.05, color='k', lw=1.5, label ='Višina NBA koša') # Iz podatkov sa spleta lahko odčitamo da je višina NBA koša 3.05m\n",
    "plt.axhline(0, color='r', lw=1.5, label ='Ničla')\n",
    "plt.legend(fontsize=15)\n"
   ]
  },
  {
   "cell_type": "markdown",
   "metadata": {},
   "source": [
    "\n"
   ]
  },
  {
   "cell_type": "markdown",
   "metadata": {},
   "source": [
    "Uporabili smo numericne metode kako bi rešili diferencialne enačbe in iz tega smo dobili potanjo žoge. Sedaj bom uporabil drugo tehniko kako bi določil točno oddaljenost koša v x smeri od Curry-a!"
   ]
  },
  {
   "cell_type": "markdown",
   "metadata": {},
   "source": [
    "\n"
   ]
  },
  {
   "cell_type": "markdown",
   "metadata": {},
   "source": [
    "# Iskanje ničel"
   ]
  },
  {
   "cell_type": "markdown",
   "metadata": {},
   "source": [
    "\n"
   ]
  },
  {
   "cell_type": "markdown",
   "metadata": {},
   "source": [
    "Najprej moramo uporabiti polyfit in poly1d kako bi naredili funkcijo od podatkov katere imamo:"
   ]
  },
  {
   "cell_type": "code",
   "execution_count": 60,
   "metadata": {},
   "outputs": [],
   "source": [
    "K_C = np.polyfit(pomik_x, pomik_y, deg=2)\n",
    "Funk_Curry = np.poly1d(K_C)"
   ]
  },
  {
   "cell_type": "code",
   "execution_count": 61,
   "metadata": {},
   "outputs": [
    {
     "name": "stdout",
     "output_type": "stream",
     "text": [
      "Žoga bo padla na tla 7.94 m od začetne pozicije!\n"
     ]
    }
   ],
   "source": [
    "# Sedaj ko imamo funkcijo lahko enostavno najdemo ničlo tako da uporabimo metodo newton.\n",
    "\n",
    "Nicla_tla = newton(Funk_Curry, x0=8) # Za x0 smo pogledali graf zgoraj in odčitali priblizno vrednost ničle.\n",
    "\n",
    "print(f'Žoga bo padla na tla {Nicla_tla:.3} m od začetne pozicije!')"
   ]
  },
  {
   "cell_type": "code",
   "execution_count": 62,
   "metadata": {},
   "outputs": [
    {
     "data": {
      "text/plain": [
       "<matplotlib.legend.Legend at 0x2d1897aa730>"
      ]
     },
     "execution_count": 62,
     "metadata": {},
     "output_type": "execute_result"
    },
    {
     "data": {
      "image/png": "[encoded data removed]",
      "text/plain": [
       "<Figure size 1152x576 with 1 Axes>"
      ]
     },
     "metadata": {
      "needs_background": "light"
     },
     "output_type": "display_data"
    }
   ],
   "source": [
    "# Uporabom enake metode tudi lahko najdemo koliko daleč je koš od Curry-a.\n",
    "# Pomaknemo funkcijo na dol za višino koša\n",
    "\n",
    "Funk_kos = Funk_Curry - 3.05 # Višina koša v NBA-u je 3.05m\n",
    "\n",
    "# Izrišemo graf:\n",
    "\n",
    "plt.figure(figsize=(16, 8))\n",
    "plt.plot(pomik_x, Funk_kos(pomik_x))\n",
    "plt.axhline(0, color='k', lw=1.5, label ='Višina NBA koša')\n",
    "plt.xlabel('Pomik v smeri x [$m$]', fontsize=15)\n",
    "plt.ylabel('Pomik v smeri y [$m$]', fontsize=15)\n",
    "plt.grid()\n",
    "plt.legend(fontsize=15)"
   ]
  },
  {
   "cell_type": "code",
   "execution_count": 64,
   "metadata": {},
   "outputs": [
    {
     "name": "stdout",
     "output_type": "stream",
     "text": [
      "Koš je potrebno postavini na razdaljini 6.28 m!\n"
     ]
    }
   ],
   "source": [
    "# Sedaj izračun.\n",
    "\n",
    "Nicla_kos = newton(Funk_kos, x0=6) # x0 smo približno odčitali sa grafa.\n",
    "\n",
    "print(f'Koš je potrebno postavini na razdaljini {Nicla_kos:.3} m!')"
   ]
  },
  {
   "cell_type": "markdown",
   "metadata": {},
   "source": [
    "**Zgoraj vidimo da smo dobili iskano vrednost naloge!**"
   ]
  },
  {
   "cell_type": "markdown",
   "metadata": {},
   "source": [
    "\n"
   ]
  },
  {
   "cell_type": "code",
   "execution_count": 66,
   "metadata": {},
   "outputs": [
    {
     "data": {
      "text/plain": [
       "<matplotlib.legend.Legend at 0x2d18991e1f0>"
      ]
     },
     "execution_count": 66,
     "metadata": {},
     "output_type": "execute_result"
    },
    {
     "data": {
      "image/png": "[encoded data removed]",
      "text/plain": [
       "<Figure size 1152x576 with 1 Axes>"
      ]
     },
     "metadata": {
      "needs_background": "light"
     },
     "output_type": "display_data"
    },
    {
     "data": {
      "image/png": "[encoded data removed]",
      "text/plain": [
       "<Figure size 1152x576 with 1 Axes>"
      ]
     },
     "metadata": {
      "needs_background": "light"
     },
     "output_type": "display_data"
    },
    {
     "data": {
      "image/png": "[encoded data removed]",
      "text/plain": [
       "<Figure size 1152x576 with 1 Axes>"
      ]
     },
     "metadata": {
      "needs_background": "light"
     },
     "output_type": "display_data"
    },
    {
     "data": {
      "image/png": "[encoded data removed]",
      "text/plain": [
       "<Figure size 1152x576 with 1 Axes>"
      ]
     },
     "metadata": {
      "needs_background": "light"
     },
     "output_type": "display_data"
    }
   ],
   "source": [
    "# Tukaj so narisani dodatni grafi. Te grafe lahko narišemo iz podatkov katere smo dobili izračunom diferencialne enacbe.\n",
    "\n",
    "\n",
    "\n",
    "plt.figure(figsize=(16, 8))\n",
    "plt.subplot(2,2,1)\n",
    "plt.plot(dx, pomik_x)\n",
    "plt.grid()\n",
    "plt.title('Sprememba $x $ po $ v_{x} $', fontsize=15)\n",
    "plt.ylabel('$ x $ [$m$]', fontsize=15)\n",
    "plt.xlabel('$ v_{x} $ [$m/s$]', fontsize=15)\n",
    "plt.axhline(Nicla_kos, color='g', lw=1.5, label = 'Odmik koša')\n",
    "plt.legend()\n",
    "\n",
    "\n",
    "\n",
    "plt.figure(figsize=(16, 8))\n",
    "plt.subplot(2,2,2)\n",
    "plt.plot(pomik_x, dy)\n",
    "plt.grid()\n",
    "plt.title('Sprememba $ v_{y} $ po $ x $', fontsize=15)\n",
    "plt.xlabel('$ x $ [$m$]', fontsize=15)\n",
    "plt.ylabel('$ v_{y} $ [$m/s$]', fontsize=15)\n",
    "plt.axhline(0, color='r', lw=1.5, label = 'Nicla')\n",
    "plt.legend(fontsize=10)\n",
    "\n",
    "\n",
    "\n",
    "plt.figure(figsize=(16, 8))\n",
    "plt.subplot(2,2,3)\n",
    "plt.plot(t_Curry, pomik_x)\n",
    "plt.grid()\n",
    "plt.title('Sprememba $ x $ po $ t $', fontsize=15)\n",
    "plt.xlabel('$ t $ [$s$]', fontsize=15)\n",
    "plt.ylabel('$ x $ [$m$]', fontsize=15)\n",
    "plt.axhline(Nicla_kos, color='g', lw=1.5, label = 'Odmik koša')\n",
    "plt.legend(fontsize=10)\n",
    "\n",
    "\n",
    "\n",
    "\n",
    "plt.figure(figsize=(16, 8))\n",
    "plt.subplot(2,2,4)\n",
    "plt.plot(t_Curry, pomik_y)\n",
    "plt.grid()\n",
    "plt.title('Sprememba $ y $ po $ t $', fontsize=15)\n",
    "plt.xlabel('$ t $ [$s$]', fontsize=15)\n",
    "plt.ylabel('$ y $ [$m$]', fontsize=15)\n",
    "plt.axhline(0, color='r', lw=1.5, label = 'Ničla')\n",
    "plt.legend(fontsize=10)"
   ]
  },
  {
   "cell_type": "markdown",
   "metadata": {},
   "source": [
    "\n"
   ]
  },
  {
   "cell_type": "markdown",
   "metadata": {},
   "source": [
    "# NBA met"
   ]
  },
  {
   "cell_type": "markdown",
   "metadata": {},
   "source": [
    "\n"
   ]
  },
  {
   "cell_type": "markdown",
   "metadata": {},
   "source": [
    "Spodaj je koda katero lahko uporabite da vidite ali je vaš met dovolj dober za NBA! V tem delu sem pri diferencialnem računu tudi uporabil event da na grafu met ne gre čez ničlo po y vrednosti."
   ]
  },
  {
   "cell_type": "markdown",
   "metadata": {},
   "source": [
    "\n"
   ]
  },
  {
   "cell_type": "code",
   "execution_count": 67,
   "metadata": {},
   "outputs": [
    {
     "name": "stdout",
     "output_type": "stream",
     "text": [
      "Vaša višina [m] = 1.85\n",
      "Začetna hitrost [m/s] = 9.26\n",
      "Kot vrženja [°] = 47\n"
     ]
    },
    {
     "data": {
      "application/vnd.jupyter.widget-view+json": {
       "model_id": "fa680daeb77a4d919eb59d545e61ab44",
       "version_major": 2,
       "version_minor": 0
      },
      "text/plain": [
       "interactive(children=(FloatSlider(value=1.85, description='y_0', max=5.550000000000001, min=-1.85), FloatSlide…"
      ]
     },
     "metadata": {},
     "output_type": "display_data"
    },
    {
     "data": {
      "text/plain": [
       "<function __main__.NBA_met(y_0=1.85, v_0=9.26, alpha_0=47.0, g=9.81, m=0.6237, ro=1.225, c_u=0.54, A=0.04523893421169302, cas_opazovanja=3)>"
      ]
     },
     "execution_count": 67,
     "metadata": {},
     "output_type": "execute_result"
    }
   ],
   "source": [
    "def NBA_met(y_0= float(input('Vaša višina [m] = ')),\n",
    "            v_0= float(input('Začetna hitrost [m/s] = ')),\n",
    "            alpha_0= float(input('Kot vrženja [°] = ')),\n",
    "            g=9.81,\n",
    "            m = 0.6237,\n",
    "            ro = 1.225,\n",
    "            c_u = 0.54,\n",
    "            A = (0.24/2)**2 * np.pi,\n",
    "            cas_opazovanja = 3\n",
    "           ):\n",
    "    \n",
    "    \"\"\"\n",
    "    Funcija katera sprejeme vaše začetne pogoje in izriše parabolo na NBA koš!\n",
    "    \n",
    "    \"\"\"\n",
    "    \n",
    "    if y_0 >= 1 and y_0 <= 3 and v_0 >= 0 and v_0 <= 15 and alpha_0 >= 0 and alpha_0 <= 60: # POGOJI ZA FUNKCIJO!\n",
    "        \n",
    "        # Na višino je potrebno dodati še višino skoka pa dolžino roke kako bi dobili približno pozicijo lopte na začetku meta!\n",
    "        \n",
    "        \n",
    "        Skok = 0.1778 \n",
    "        Razmerje = 0.78/1.81 # Moje razmerje dolžine roke in moje višine.\n",
    "        \n",
    "        y1 = y_0 + Skok + (Razmerje*y_0)\n",
    "        \n",
    "        y_NBA = [0, np.cos(alpha_0 * (np.pi/180))*v_0, y1, np.sin(alpha_0 * (np.pi/180))*v_0]\n",
    "    \n",
    "        def Diferencialna(t, y, g, m, ro, c_u, A):\n",
    "            \n",
    "            \"\"\"\n",
    "            Funkcija prej definirana za izračun diferencialnih enačb\n",
    "        \n",
    "            \"\"\"\n",
    "            g=9.81\n",
    "            m = 0.6237\n",
    "            ro = 1.225\n",
    "            c_u = 0.54\n",
    "            A = (0.24/2)**2 * np.pi\n",
    "        \n",
    "            v = np.sqrt(y[1]**2 + y[3]**2)\n",
    "    \n",
    "            alpha = np.arctan2(y[3], y[1])\n",
    "    \n",
    "            F_u = 0.5 * ro * v**2 * c_u * A\n",
    "    \n",
    "            return np.array([y[1], -F_u*np.cos(alpha)/m, y[3], -F_u*np.sin(alpha)/m - g])\n",
    "\n",
    "        t = np.linspace(0, cas_opazovanja, 100)\n",
    "        tla = lambda t, y: y[2]\n",
    "        tla.terminal = True\n",
    "\n",
    "        Resitev = solve_ivp(lambda t, y: Diferencialna(t, y, g, m, ro, c_u, A), t_span=(t[0],t[-1]), y0=y_NBA, t_eval = t, events=tla)\n",
    "        x, dx, y, dy = Resitev.y\n",
    "\n",
    "        #GRAF\n",
    "    \n",
    "        plt.figure(figsize=(16, 8))\n",
    "        plt.plot(x, y, lw = 1.5, color='k', label = 'Met žoge')\n",
    "        plt.title('Poševni met žoge', fontsize=15)\n",
    "        plt.xlabel('Pomik v x smeri ($m$)', fontsize=15)\n",
    "        plt.ylabel('Pomik v y smeri ($m$)', fontsize=15)\n",
    "        plt.plot(np.linspace(7.24-0.45,7.24,50),50*[3.05], 'o', color='#ff7f0e')\n",
    "        plt.axhline(0, color='r', lw = 5)\n",
    "        \n",
    "        P1 = [7.24, 0]\n",
    "        P2 = [7.24, 3.05]\n",
    "\n",
    "        x_kos = [P1[0], P2[0]]\n",
    "\n",
    "        y_kos = [P1[1], P2[1]]\n",
    "\n",
    "\n",
    "        plt.plot(x_kos, y_kos, label='Koš', color='r', lw = 3)\n",
    "        \n",
    "        plt.grid()\n",
    "        plt.legend(fontsize=10)\n",
    "\n",
    "        \n",
    "    else: # V slučaju da vaše številke niso realne!\n",
    "        \n",
    "        if y_0 < 1 or  y_0 > 3:\n",
    "            \n",
    "            raise Exception(f\"Višina {y_0}m ni realna! Poskusite vrednosti med 1 pa 3!\")\n",
    "                \n",
    "        elif v_0 < 0 or v_0 > 15:\n",
    "            \n",
    "            raise Exception(f\"Hitrost {v_0}m/s ni realna! Poskusite vrednosti med 0 in 15!\")\n",
    "            \n",
    "        elif alpha_0 < 0 or alpha_0 > 60:\n",
    "            \n",
    "            raise Exception(f\"Kot {alpha_0}° ni realen! Poskusite vrednosti med 0 in 60\")\n",
    "\n",
    "\n",
    "    \n",
    "\n",
    "    \n",
    "    \n",
    "    \n",
    "interact(NBA_met)"
   ]
  },
  {
   "cell_type": "markdown",
   "metadata": {},
   "source": [
    "**FIN**"
   ]
  }
 ],
 "metadata": {
  "kernelspec": {
   "display_name": "Python 3",
   "language": "python",
   "name": "python3"
  },
  "language_info": {
   "codemirror_mode": {
    "name": "ipython",
    "version": 3
   },
   "file_extension": ".py",
   "mimetype": "text/x-python",
   "name": "python",
   "nbconvert_exporter": "python",
   "pygments_lexer": "ipython3",
   "version": "3.8.5"
  },
  "toc": {
   "base_numbering": 1,
   "nav_menu": {},
   "number_sections": true,
   "sideBar": true,
   "skip_h1_title": false,
   "title_cell": "Kazalo",
   "title_sidebar": "Kazalo",
   "toc_cell": true,
   "toc_position": {
    "height": "calc(100% - 180px)",
    "left": "10px",
    "top": "150px",
    "width": "384px"
   },
   "toc_section_display": true,
   "toc_window_display": false
  }
 },
 "nbformat": 4,
 "nbformat_minor": 4
}
